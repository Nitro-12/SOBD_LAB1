{
 "cells": [
  {
   "cell_type": "markdown",
   "metadata": {},
   "source": [
    "## Лабораторная работа № 2 \n",
    "## Машинное обучение на больших данных с использованием фреймворка Apache Spark и библиотеки SparkML"
   ]
  },
  {
   "cell_type": "markdown",
   "metadata": {},
   "source": [
    "### Часть 2\n",
    "\n",
    "В данной части работы рассмотрены:\n",
    "* подготовка признаков для решения задачи бинарной классификации с использованием **логистической регрессии**;\n",
    "* создание и обучение модели логистической регрессии;\n",
    "* оценка качества модели.\n"
   ]
  },
  {
   "cell_type": "markdown",
   "metadata": {},
   "source": [
    "#### Запуск `Spark`-сессии\n",
    "\n",
    "Подключаем необходимые библиотеки."
   ]
  },
  {
   "cell_type": "code",
   "execution_count": 1,
   "metadata": {},
   "outputs": [],
   "source": [
    "import os\n",
    "import numpy as np\n",
    "import pandas as pd\n",
    "import seaborn as sns\n",
    "import matplotlib.pyplot as plt\n",
    "from pyspark.sql import SparkSession, DataFrame\n",
    "from pyspark import SparkConf\n",
    "from pyspark.ml.feature import VectorAssembler, StringIndexer, Binarizer, Bucketizer\n",
    "from pyspark.ml.functions import vector_to_array\n",
    "from pyspark.ml.classification import LogisticRegression, LogisticRegressionModel\n",
    "from pyspark.ml.evaluation import BinaryClassificationEvaluator\n",
    "from pyspark.ml.tuning import CrossValidator, CrossValidatorModel, ParamGridBuilder\n",
    "from pyspark.ml import Pipeline\n",
    "from pyspark.sql import functions as F\n",
    "from pyspark.sql.types import DoubleType, IntegerType\n",
    "from pyspark.sql import Window"
   ]
  },
  {
   "cell_type": "markdown",
   "metadata": {},
   "source": [
    "Сформируем объект конфигурации для `Apache Spark`, указав необходимые параметры."
   ]
  },
  {
   "cell_type": "code",
   "execution_count": 2,
   "metadata": {},
   "outputs": [],
   "source": [
    "def create_spark_configuration() -> SparkConf:\n",
    "    \"\"\"\n",
    "    Создает и конфигурирует экземпляр SparkConf для приложения Spark.\n",
    "\n",
    "    Returns:\n",
    "        SparkConf: Настроенный экземпляр SparkConf.\n",
    "    \"\"\"\n",
    "    # Получаем имя пользователя\n",
    "    user_name = os.getenv(\"USER\")\n",
    "    \n",
    "    conf = SparkConf()\n",
    "    conf.setAppName(\"lab 2.2 Test Kachurin\")\n",
    "    conf.setMaster(\"yarn\")\n",
    "    conf.set(\"spark.submit.deployMode\", \"client\")\n",
    "    conf.set(\"spark.executor.memory\", \"12g\")\n",
    "    conf.set(\"spark.executor.cores\", \"8\")\n",
    "    conf.set(\"spark.executor.instances\", \"2\")\n",
    "    conf.set(\"spark.driver.memory\", \"4g\")\n",
    "    conf.set(\"spark.driver.cores\", \"2\")\n",
    "    conf.set(\"spark.jars.packages\", \"org.apache.iceberg:iceberg-spark-runtime-3.5_2.12:1.6.0\")\n",
    "    conf.set(\"spark.sql.extensions\", \"org.apache.iceberg.spark.extensions.IcebergSparkSessionExtensions\")\n",
    "    conf.set(\"spark.sql.catalog.spark_catalog\", \"org.apache.iceberg.spark.SparkCatalog\")\n",
    "    conf.set(\"spark.sql.catalog.spark_catalog.type\", \"hadoop\")\n",
    "    conf.set(\"spark.sql.catalog.spark_catalog.warehouse\", f\"hdfs:///user/{user_name}/warehouse\")\n",
    "    conf.set(\"spark.sql.catalog.spark_catalog.io-impl\", \"org.apache.iceberg.hadoop.HadoopFileIO\")\n",
    "\n",
    "    return conf"
   ]
  },
  {
   "cell_type": "markdown",
   "metadata": {},
   "source": [
    "Создаём сам объект конфигурации."
   ]
  },
  {
   "cell_type": "code",
   "execution_count": 3,
   "metadata": {},
   "outputs": [],
   "source": [
    "conf = create_spark_configuration()"
   ]
  },
  {
   "cell_type": "markdown",
   "metadata": {},
   "source": [
    "Создаём и выводим на экран сессию `Apache Spark`. В процессе создания сессии происходит подключение к кластеру `Apache Hadoop`, что может занять некоторое время."
   ]
  },
  {
   "cell_type": "code",
   "execution_count": 4,
   "metadata": {},
   "outputs": [
    {
     "name": "stdout",
     "output_type": "stream",
     "text": [
      ":: loading settings :: url = jar:file:/opt/spark-3.5.2-bin-hadoop3/jars/ivy-2.5.1.jar!/org/apache/ivy/core/settings/ivysettings.xml\n"
     ]
    },
    {
     "name": "stderr",
     "output_type": "stream",
     "text": [
      "Ivy Default Cache set to: /home/user6/.ivy2/cache\n",
      "The jars for the packages stored in: /home/user6/.ivy2/jars\n",
      "org.apache.iceberg#iceberg-spark-runtime-3.5_2.12 added as a dependency\n",
      ":: resolving dependencies :: org.apache.spark#spark-submit-parent-8cdb2a89-89d4-46c6-8f39-cd7136661e36;1.0\n",
      "\tconfs: [default]\n",
      "\tfound org.apache.iceberg#iceberg-spark-runtime-3.5_2.12;1.6.0 in central\n",
      ":: resolution report :: resolve 696ms :: artifacts dl 23ms\n",
      "\t:: modules in use:\n",
      "\torg.apache.iceberg#iceberg-spark-runtime-3.5_2.12;1.6.0 from central in [default]\n",
      "\t---------------------------------------------------------------------\n",
      "\t|                  |            modules            ||   artifacts   |\n",
      "\t|       conf       | number| search|dwnlded|evicted|| number|dwnlded|\n",
      "\t---------------------------------------------------------------------\n",
      "\t|      default     |   1   |   0   |   0   |   0   ||   1   |   0   |\n",
      "\t---------------------------------------------------------------------\n",
      ":: retrieving :: org.apache.spark#spark-submit-parent-8cdb2a89-89d4-46c6-8f39-cd7136661e36\n",
      "\tconfs: [default]\n",
      "\t0 artifacts copied, 1 already retrieved (0kB/27ms)\n",
      "Setting default log level to \"WARN\".\n",
      "To adjust logging level use sc.setLogLevel(newLevel). For SparkR, use setLogLevel(newLevel).\n",
      "24/12/20 04:31:59 WARN Client: Neither spark.yarn.jars nor spark.yarn.archive is set, falling back to uploading libraries under SPARK_HOME.\n",
      "24/12/20 04:32:19 WARN Client: Same path resource file:///home/user6/.ivy2/jars/org.apache.iceberg_iceberg-spark-runtime-3.5_2.12-1.6.0.jar added multiple times to distributed cache.\n"
     ]
    },
    {
     "data": {
      "text/html": [
       "\n",
       "            <div>\n",
       "                <p><b>SparkSession - in-memory</b></p>\n",
       "                \n",
       "        <div>\n",
       "            <p><b>SparkContext</b></p>\n",
       "\n",
       "            <p><a href=\"http://node32.cluster:4040\">Spark UI</a></p>\n",
       "\n",
       "            <dl>\n",
       "              <dt>Version</dt>\n",
       "                <dd><code>v3.5.2</code></dd>\n",
       "              <dt>Master</dt>\n",
       "                <dd><code>yarn</code></dd>\n",
       "              <dt>AppName</dt>\n",
       "                <dd><code>lab 2.2 Test Kachurin</code></dd>\n",
       "            </dl>\n",
       "        </div>\n",
       "        \n",
       "            </div>\n",
       "        "
      ],
      "text/plain": [
       "<pyspark.sql.session.SparkSession at 0x7f6433820ed0>"
      ]
     },
     "execution_count": 4,
     "metadata": {},
     "output_type": "execute_result"
    }
   ],
   "source": [
    "spark = SparkSession.builder.config(conf=conf).getOrCreate()\n",
    "spark"
   ]
  },
  {
   "cell_type": "markdown",
   "metadata": {},
   "source": [
    "#### Загрузка датасета\n",
    "\n",
    "Укажем базу данных, которая была создана в первой лабораторной работе."
   ]
  },
  {
   "cell_type": "code",
   "execution_count": 5,
   "metadata": {},
   "outputs": [],
   "source": [
    "database_name = \"kachurin_database\""
   ]
  },
  {
   "cell_type": "markdown",
   "metadata": {},
   "source": [
    "Установим созданную базу данных как текущую."
   ]
  },
  {
   "cell_type": "code",
   "execution_count": 6,
   "metadata": {},
   "outputs": [],
   "source": [
    "spark.catalog.setCurrentDatabase(database_name)"
   ]
  },
  {
   "cell_type": "markdown",
   "metadata": {},
   "source": [
    "Прочитаем таблицу с **предобработанным датасетом** и загрузим её в `Spark Dataframe`."
   ]
  },
  {
   "cell_type": "code",
   "execution_count": 7,
   "metadata": {},
   "outputs": [],
   "source": [
    "df = spark.table(\"sobd_lab1_processed_table_1\")"
   ]
  },
  {
   "cell_type": "markdown",
   "metadata": {},
   "source": [
    "Выведем прочитанную таблицу на экран."
   ]
  },
  {
   "cell_type": "code",
   "execution_count": 8,
   "metadata": {},
   "outputs": [
    {
     "name": "stderr",
     "output_type": "stream",
     "text": [
      "[Stage 0:>                                                          (0 + 1) / 1]\r"
     ]
    },
    {
     "name": "stderr",
     "output_type": "stream",
     "text": [
      "                                                                                \r"
     ]
    },
    {
     "name": "stdout",
     "output_type": "stream",
     "text": [
      "+--------------------+----------+---------------+------------------+--------------+------------+---------+------------------+------------------+--------------+-------------------+--------------+------------+--------------------+--------------------------------+\n",
      "|               legId|flightDate|startingAirport|destinationAirport|isBasicEconomy|isRefundable|isNonStop|          baseFare|         totalFare|seatsRemaining|totalTravelDistance|airportFlights|totalFlights|otherAirportsFlights|relativeFlightShareOtherAirports|\n",
      "+--------------------+----------+---------------+------------------+--------------+------------+---------+------------------+------------------+--------------+-------------------+--------------+------------+--------------------+--------------------------------+\n",
      "|f38c6c38eddff88d2...|2022-07-01|            ATL|               BOS|         false|       false|    false|320.92999267578125| 368.6000061035156|             1|              947.0|             6|         173|                 167|             0.03592814371257485|\n",
      "|1f5752e26a41362ae...|2022-07-01|            ATL|               DEN|         false|       false|    false| 438.1400146484375| 494.6000061035156|             7|             1375.0|             7|         174|                 167|            0.041916167664670656|\n",
      "|b74157fc55a71e2e2...|2022-07-01|            ATL|               LAX|         false|       false|    false| 739.5399780273438| 818.6099853515625|             2|             2074.0|             8|         175|                 167|             0.04790419161676647|\n",
      "|61f35facce29c5b77...|2022-07-01|            ATL|               SFO|         false|       false|     true| 403.7200012207031| 448.6000061035156|             9|             2135.0|             9|         176|                 167|             0.05389221556886228|\n",
      "|4e15b55a64d69e88f...|2022-07-01|            ATL|               SFO|         false|       false|    false| 621.8200073242188| 697.6599731445312|             7|             3328.0|            10|         177|                 167|            0.059880239520958084|\n",
      "|0b61bf381f5e342e5...|2022-07-01|            ATL|               LGA|         false|       false|     true|217.67999267578125|248.61000061035156|             7|              762.0|            11|         200|                 189|              0.0582010582010582|\n",
      "|909924cf1cc9bfd9a...|2022-07-01|            ATL|               LGA|         false|       false|    false|399.07000732421875| 452.6000061035156|             4|             2105.0|            12|         201|                 189|             0.06349206349206349|\n",
      "|9f7eedaa62dec44a4...|2022-07-01|            ATL|               LAX|         false|       false|     true| 282.7900085449219| 318.6000061035156|             9|             1897.0|            13|         224|                 211|            0.061611374407582936|\n",
      "|9fcad3bf0abb87082...|2022-07-01|            ATL|               OAK|         false|       false|    false| 413.0299987792969| 477.7099914550781|             3|             2477.0|            14|         225|                 211|             0.06635071090047394|\n",
      "|a80ab30d556ecd891...|2022-07-01|            ATL|               SFO|         false|       false|    false| 429.7699890136719|491.20001220703125|             5|             2193.0|            15|         226|                 211|             0.07109004739336493|\n",
      "|73bfcf223a1f590a9...|2022-07-01|            ATL|               DTW|         false|       false|    false| 254.8800048828125| 296.1000061035156|             7|              733.0|            16|         306|                 290|             0.05517241379310345|\n",
      "|fc61882a258d6f719...|2022-07-01|            ATL|               DFW|         false|       false|    false| 395.3500061035156| 448.6000061035156|             2|              924.0|            17|         337|                 320|                        0.053125|\n",
      "|04e8ab0020a8f8a72...|2022-07-01|            ATL|               EWR|         false|       false|     true|329.29998779296875| 368.6000061035156|             9|              762.0|            18|         361|                 343|            0.052478134110787174|\n",
      "|cbd175802bc8aad45...|2022-07-01|            ATL|               DTW|         false|       false|    false|             320.0|373.20001220703125|             9|              664.0|            19|         367|                 348|             0.05459770114942529|\n",
      "|d88271053c8903155...|2022-07-01|            ATL|               MIA|         false|       false|    false| 574.8900146484375| 641.6099853515625|             9|             1649.0|            20|         368|                 348|             0.05747126436781609|\n",
      "|1cca889280b2add74...|2022-07-01|            ATL|               SFO|         false|       false|     true|  496.739990234375| 548.5999755859375|             9|             2135.0|            21|         369|                 348|              0.0603448275862069|\n",
      "|cff27d7fb8af4f8f9...|2022-07-01|            ATL|               BOS|         false|       false|    false|472.55999755859375| 530.0999755859375|             2|              956.0|            22|         397|                 375|            0.058666666666666666|\n",
      "|18c29ab208a4c43d1...|2022-07-01|            ATL|               JFK|         false|       false|    false| 365.5799865722656|422.20001220703125|             9|              941.0|            23|         398|                 375|             0.06133333333333333|\n",
      "|93f1cddf68a8e5404...|2022-07-01|            ATL|               PHL|         false|       false|     true|  366.510009765625| 408.6000061035156|             9|              667.0|            24|         399|                 375|                           0.064|\n",
      "|d785796f88d2606a7...|2022-07-01|            ATL|               SFO|         false|       false|    false| 452.0899963378906| 509.6000061035156|             1|             2193.0|            25|         403|                 378|             0.06613756613756613|\n",
      "+--------------------+----------+---------------+------------------+--------------+------------+---------+------------------+------------------+--------------+-------------------+--------------+------------+--------------------+--------------------------------+\n",
      "only showing top 20 rows\n",
      "\n"
     ]
    }
   ],
   "source": [
    "df.show()"
   ]
  },
  {
   "cell_type": "markdown",
   "metadata": {},
   "source": [
    "Вспомним описание столбцов и параметры датасета, проанализированные в первой лабораторной работе.\n",
    "\n",
    "| Название столбца            | Расшифровка                                                                 |\n",
    "| --------------------------- | --------------------------------------------------------------------------- |\n",
    "| legId                       | Идентификатор рейса                                                        |\n",
    "| flightDate                  | Дата вылета (YYYY-MM-DD)                                                   |\n",
    "| startingAirport             | Код аэропорта вылета (IATA)                                               |\n",
    "| destinationAirport          | Код аэропорта прилета (IATA)                                              |\n",
    "| isBasicEconomy              | Является ли билет экономичным (логическое значение)                       |\n",
    "| isRefundable                | Является ли билет возвратным (логическое значение)                        |\n",
    "| isNonStop                   | Является ли рейс прямым (логическое значение)                             |\n",
    "| baseFare                    | Базовая стоимость билета (в долларах США)                                 |\n",
    "| totalFare                   | Полная стоимость билета с учетом налогов и сборов (в долларах США)        |\n",
    "| seatsRemaining              | Количество оставшихся мест                                                |\n",
    "| totalTravelDistance         | Общая дистанция путешествия (в милях)                                     |\n"
   ]
  },
  {
   "cell_type": "markdown",
   "metadata": {},
   "source": [
    "Вспомним схему данных."
   ]
  },
  {
   "cell_type": "code",
   "execution_count": 9,
   "metadata": {},
   "outputs": [
    {
     "name": "stdout",
     "output_type": "stream",
     "text": [
      "root\n",
      " |-- legId: string (nullable = true)\n",
      " |-- flightDate: date (nullable = true)\n",
      " |-- startingAirport: string (nullable = true)\n",
      " |-- destinationAirport: string (nullable = true)\n",
      " |-- isBasicEconomy: boolean (nullable = true)\n",
      " |-- isRefundable: boolean (nullable = true)\n",
      " |-- isNonStop: boolean (nullable = true)\n",
      " |-- baseFare: double (nullable = true)\n",
      " |-- totalFare: double (nullable = true)\n",
      " |-- seatsRemaining: integer (nullable = true)\n",
      " |-- totalTravelDistance: float (nullable = true)\n",
      " |-- airportFlights: long (nullable = true)\n",
      " |-- totalFlights: long (nullable = true)\n",
      " |-- otherAirportsFlights: long (nullable = true)\n",
      " |-- relativeFlightShareOtherAirports: double (nullable = true)\n",
      "\n"
     ]
    }
   ],
   "source": [
    "df.printSchema()"
   ]
  },
  {
   "cell_type": "markdown",
   "metadata": {},
   "source": [
    "Вычислим количество строк в датафрейме."
   ]
  },
  {
   "cell_type": "code",
   "execution_count": 10,
   "metadata": {},
   "outputs": [
    {
     "name": "stderr",
     "output_type": "stream",
     "text": [
      "                                                                                \r"
     ]
    },
    {
     "data": {
      "text/plain": [
       "30655206"
      ]
     },
     "execution_count": 10,
     "metadata": {},
     "output_type": "execute_result"
    }
   ],
   "source": [
    "df.count()"
   ]
  },
  {
   "cell_type": "markdown",
   "metadata": {},
   "source": [
    "#### Постановка задачи\n",
    "\n",
    "Для датасета, заданного представленными колонками, требуется построить модель бинарной классификации с использованием **логистической регрессии**  для оценки факта того, является ли билет экономичным (значение isBasicEconomy), по всем остальным признакам. \n",
    "\n",
    "Для оценки качества обучения следует использовать метрики `Precision` и `Recall`. Оценить максимально возможное значение **точности** при полноте не менее 60%.\n"
   ]
  },
  {
   "cell_type": "markdown",
   "metadata": {},
   "source": [
    "#### Подготовка и кодирование признаков\n",
    "\n",
    "Для корректной работы трансформеров и модели преобразуем столбец `totalTravelDistance` к типу `DoubleType`, а столбец `isBasicEconomy` к типу `IntegerType`."
   ]
  },
  {
   "cell_type": "code",
   "execution_count": 11,
   "metadata": {},
   "outputs": [],
   "source": [
    "df = df.withColumn(\"totalTravelDistance\", F.col(\"totalTravelDistance\").cast(DoubleType()))\n",
    "df = df.withColumn(\"isBasicEconomy\", F.col(\"isBasicEconomy\").cast(IntegerType()))"
   ]
  },
  {
   "cell_type": "markdown",
   "metadata": {},
   "source": [
    "Выполним **стратифицированное** разделение датасета на обучающую и тестовую выборки."
   ]
  },
  {
   "cell_type": "code",
   "execution_count": 12,
   "metadata": {},
   "outputs": [],
   "source": [
    "def stratified_train_test_split(data: DataFrame, \n",
    "                                label_col: str,\n",
    "                                ratio: float) -> tuple[DataFrame, DataFrame]:\n",
    "    \"\"\"\n",
    "    Разделяет DataFrame на тренировочный и тестовый наборы с учетом стратификации.\n",
    "\n",
    "    Args:\n",
    "        data: Исходный DataFrame.\n",
    "        label_col: Название столбца с меткой.\n",
    "        ratio: Пропорция разделения данных.\n",
    "\n",
    "    Returns:\n",
    "        tuple[DataFrame, DataFrame]: Кортеж из тренировочного и тестового DataFrame.\n",
    "    \"\"\"\n",
    "    # Проверяем корректность доли разделения\n",
    "    assert (isinstance(ratio, float) and (0.0 <= ratio <= 1.0))\n",
    "    \n",
    "    # Формируем разделение для положительных и отрицательных объектов раздельно\n",
    "    train_df_pos, test_df_pos = (data\n",
    "                                 .filter(F.col(label_col) == 1)\n",
    "                                 .randomSplit([ratio, 1 - ratio]))\n",
    "    train_df_neg, test_df_neg = (data\n",
    "                                 .filter(F.col(label_col) == 0)\n",
    "                                 .randomSplit([ratio, 1 - ratio]))\n",
    "    \n",
    "    # Объединяем датафреймы\n",
    "    return (train_df_pos.union(train_df_neg),\n",
    "            test_df_pos.union(test_df_neg))"
   ]
  },
  {
   "cell_type": "code",
   "execution_count": 13,
   "metadata": {},
   "outputs": [],
   "source": [
    "train_df, test_df = stratified_train_test_split(df, \"isBasicEconomy\", 0.8)"
   ]
  },
  {
   "cell_type": "markdown",
   "metadata": {},
   "source": [
    "Закешируем сформированные датафреймы и проверим их объем."
   ]
  },
  {
   "cell_type": "code",
   "execution_count": 14,
   "metadata": {},
   "outputs": [
    {
     "name": "stderr",
     "output_type": "stream",
     "text": [
      "[Stage 4:============================>                           (37 + 16) / 74]\r"
     ]
    },
    {
     "name": "stderr",
     "output_type": "stream",
     "text": [
      "                                                                                \r"
     ]
    },
    {
     "name": "stdout",
     "output_type": "stream",
     "text": [
      "Train dataset size: 24521787\n"
     ]
    },
    {
     "name": "stderr",
     "output_type": "stream",
     "text": [
      "[Stage 8:========================================================>(73 + 1) / 74]\r"
     ]
    },
    {
     "name": "stdout",
     "output_type": "stream",
     "text": [
      "Test  dataset size: 6133419\n"
     ]
    },
    {
     "name": "stderr",
     "output_type": "stream",
     "text": [
      "                                                                                \r"
     ]
    }
   ],
   "source": [
    "train_df = train_df.cache()\n",
    "test_df = test_df.cache()\n",
    "\n",
    "print(f\"Train dataset size: {train_df.count()}\")\n",
    "print(f\"Test  dataset size: {test_df.count()}\")"
   ]
  },
  {
   "cell_type": "markdown",
   "metadata": {},
   "source": [
    "Как мы уже знаем из анализа датасета, если целевой переменной является `isBasicEconomy`, то датасет является **несбалансированным**."
   ]
  },
  {
   "cell_type": "code",
   "execution_count": 15,
   "metadata": {},
   "outputs": [
    {
     "name": "stderr",
     "output_type": "stream",
     "text": [
      "[Stage 14:>                                                         (0 + 1) / 1]\r"
     ]
    },
    {
     "name": "stdout",
     "output_type": "stream",
     "text": [
      "+--------------+--------+\n",
      "|isBasicEconomy|   count|\n",
      "+--------------+--------+\n",
      "|             1| 2379869|\n",
      "|             0|22141918|\n",
      "+--------------+--------+\n",
      "\n"
     ]
    },
    {
     "name": "stderr",
     "output_type": "stream",
     "text": [
      "                                                                                \r"
     ]
    }
   ],
   "source": [
    "train_df.groupBy(\"isBasicEconomy\").count().show()"
   ]
  },
  {
   "cell_type": "markdown",
   "metadata": {},
   "source": [
    "Выполним балансировку датасета с помощью `oversampling`. "
   ]
  },
  {
   "cell_type": "code",
   "execution_count": 16,
   "metadata": {},
   "outputs": [],
   "source": [
    "def oversample(data: DataFrame, column: str) -> DataFrame:\n",
    "    \"\"\"\n",
    "    Выполняет oversampling положительных классов в DataFrame.\n",
    "\n",
    "    Args:\n",
    "        data: Исходный DataFrame.\n",
    "        column: Название столбца с меткой.\n",
    "\n",
    "    Returns:\n",
    "        DataFrame: Датафрейм с выполненным oversampling.\n",
    "    \"\"\"\n",
    "    # Разделим датафрейм на положительные и отрицательные классы\n",
    "    pos = data.filter(F.col(column) == 1.0)\n",
    "    neg = data.filter(F.col(column) == 0.0)\n",
    "\n",
    "    # Получим количество записей в каждом классе\n",
    "    total_pos = pos.count()\n",
    "    total_neg = neg.count()\n",
    "\n",
    "    # Если количество положительных классов меньше отрицательных,\n",
    "    # выполним oversampling\n",
    "    if total_pos < total_neg:\n",
    "        # Вычислим количество необходимых дубликатов\n",
    "        num_duplicates = total_neg - total_pos\n",
    "\n",
    "        # Дублируем положительные записи\n",
    "        oversampled_pos = pos.withColumn(\n",
    "            \"dummy\",\n",
    "            F.explode(\n",
    "                F.array_repeat(F.lit(1),\n",
    "                               num_duplicates // total_pos + 1)\n",
    "            )\n",
    "        ).drop(\"dummy\")\n",
    "\n",
    "        # Объединим дублированные положительные записи с отрицательными\n",
    "        balanced_df = neg.union(oversampled_pos)\n",
    "    else:\n",
    "        balanced_df = data\n",
    "\n",
    "    return balanced_df"
   ]
  },
  {
   "cell_type": "code",
   "execution_count": 17,
   "metadata": {},
   "outputs": [
    {
     "name": "stderr",
     "output_type": "stream",
     "text": [
      "                                                                                \r"
     ]
    }
   ],
   "source": [
    "train_df = oversample(train_df, column=\"isBasicEconomy\")"
   ]
  },
  {
   "cell_type": "markdown",
   "metadata": {},
   "source": [
    "Проверим баланс классов в получившемся датасете."
   ]
  },
  {
   "cell_type": "code",
   "execution_count": 18,
   "metadata": {},
   "outputs": [
    {
     "name": "stderr",
     "output_type": "stream",
     "text": [
      "[Stage 21:==============================================>       (127 + 8) / 148]\r"
     ]
    },
    {
     "name": "stdout",
     "output_type": "stream",
     "text": [
      "+--------------+--------+\n",
      "|isBasicEconomy|   count|\n",
      "+--------------+--------+\n",
      "|             0|22141918|\n",
      "|             1|21418821|\n",
      "+--------------+--------+\n",
      "\n"
     ]
    },
    {
     "name": "stderr",
     "output_type": "stream",
     "text": [
      "                                                                                \r"
     ]
    }
   ],
   "source": [
    "train_df.groupBy(\"isBasicEconomy\").count().show()"
   ]
  },
  {
   "cell_type": "markdown",
   "metadata": {},
   "source": [
    "Понятно, что **идентификационный номер** автомобиля не оказывает влияния на сертификацию. Использовать его в модели нет смысла.\n",
    "\n",
    "Остальные признаки сгруппируем по их типу:\n",
    "\n",
    "* **Категориальные** признаки закодируем с помощью `label encoding`.\n",
    "* **Бинарные** признаки представлены значениями `true` / `false`, которые могут быть интерпретированы как единица и нуль. Поэтому, в кодировании не нуждаются.\n",
    "* **Количественные** признаки для древовидных моделей в кодировании не нуждаются.\n"
   ]
  },
  {
   "cell_type": "code",
   "execution_count": 19,
   "metadata": {},
   "outputs": [],
   "source": [
    "categorical_features = [\"startingAirport\", \"destinationAirport\"]\n",
    "binary_features = [\"isRefundable\", \"isNonStop\"]\n",
    "numeric_features = [\n",
    "    \"baseFare\", \"totalFare\", \"seatsRemaining\", \n",
    "    \"totalTravelDistance\", \"airportFlights\"\n",
    "]"
   ]
  },
  {
   "cell_type": "code",
   "execution_count": 20,
   "metadata": {},
   "outputs": [],
   "source": [
    "# categorical_features = [\"body_type\", \"wheel_system\"]\n",
    "# binary_features = [\n",
    "#     \"contains_Alloy Wheels\", \"contains_Backup Camera\", \"contains_Bluetooth\", \n",
    "#     \"contains_Heated Seats\", \"contains_Sunroof/Moonroof\"\n",
    "# ]\n",
    "# numeric_features = [\"daysonmarket\", \"horsepower\", \"price\", \"maximum_seating\", \"age\"]\n",
    "# binarizable_feature = \"mileage\""
   ]
  },
  {
   "cell_type": "markdown",
   "metadata": {},
   "source": [
    "Создадим конвейер обработки данных, включающий модель градиентного бустинга на деревьях решений."
   ]
  },
  {
   "cell_type": "code",
   "execution_count": 21,
   "metadata": {},
   "outputs": [],
   "source": [
    "from pyspark.ml.feature import StringIndexer, OneHotEncoder, VectorAssembler\n",
    "from pyspark.ml.classification import LogisticRegression\n",
    "from pyspark.ml import Pipeline\n",
    "\n",
    "def create_pipeline(categorical_features: list[str], numeric_features: list[str], \n",
    "                    label_col: str, max_iter: int) -> Pipeline:\n",
    "    \"\"\"\n",
    "    Создает конвейер для обработки данных и обучения модели логистической регрессии.\n",
    "\n",
    "    Args:\n",
    "        categorical_features: Список категориальных признаков.\n",
    "        numeric_features: Список количественных признаков.\n",
    "        label_col: Название столбца с меткой.\n",
    "        max_iter: Максимальное количество итераций для модели.\n",
    "\n",
    "    Returns:\n",
    "        Pipeline: Конвейер для обработки данных и обучения модели.\n",
    "    \"\"\"\n",
    "    # Преобразование категориальных признаков в индексы\n",
    "    indexed_categorical_features = [f\"{feature}_index\" for feature in categorical_features]\n",
    "    string_indexer = StringIndexer(\n",
    "        inputCols=categorical_features,\n",
    "        outputCols=indexed_categorical_features\n",
    "    )\n",
    "\n",
    "    # One-hot encoding для категориальных признаков\n",
    "    encoded_categorical_features = [f\"{feature}_encoded\" for feature in categorical_features]\n",
    "    one_hot_encoder = OneHotEncoder(\n",
    "        inputCols=indexed_categorical_features,\n",
    "        outputCols=encoded_categorical_features\n",
    "    )\n",
    "\n",
    "    # Векторизация всех признаков\n",
    "    vector_all_assembler = VectorAssembler(\n",
    "        inputCols=(encoded_categorical_features + numeric_features),\n",
    "        outputCol=\"features\"\n",
    "    )\n",
    "\n",
    "    # Логистическая регрессия\n",
    "    logistic_regression = LogisticRegression(\n",
    "        featuresCol=\"features\",\n",
    "        labelCol=label_col,\n",
    "        predictionCol=\"prediction\",\n",
    "        maxIter=max_iter\n",
    "    )\n",
    "\n",
    "    # Конвейер\n",
    "    pipeline = Pipeline(stages=[\n",
    "        string_indexer, one_hot_encoder, vector_all_assembler, logistic_regression\n",
    "    ])\n",
    "\n",
    "    return pipeline\n"
   ]
  },
  {
   "cell_type": "code",
   "execution_count": 22,
   "metadata": {},
   "outputs": [],
   "source": [
    "pipeline = create_pipeline(categorical_features=categorical_features,\n",
    "                           numeric_features=numeric_features,\n",
    "                           label_col=\"isBasicEconomy\",\n",
    "                           max_iter=30)"
   ]
  },
  {
   "cell_type": "markdown",
   "metadata": {},
   "source": [
    "#### Обучение модели\n",
    "\n",
    "Выполним **подбор гиперпараметров** модели линейной регрессии с помощью кросс-валидации на сетке.\n",
    "\n",
    "Создаем сетку параметров для кросс-валидации, получив объект `GBTClassifier` из конвейера."
   ]
  },
  {
   "cell_type": "code",
   "execution_count": 23,
   "metadata": {},
   "outputs": [],
   "source": [
    "# param_grid = ParamGridBuilder() \\\n",
    "#     .addGrid(pipeline.getStages()[-1].maxDepth, [3, 5, 7]) \\\n",
    "#     .addGrid(pipeline.getStages()[-1].stepSize, [0.1, 0.01, 0.001]) \\\n",
    "#     .build()\n",
    "\n",
    "# Подбор гиперпараметров, указанный выше, выполняется на кластере несколько часов :))\n",
    "# Для ознакомления можно использовать упрощенную процедуру, приведенную ниже\n",
    "param_grid = ParamGridBuilder() \\\n",
    "    .addGrid(pipeline.getStages()[-1].regParam, [0.01]) \\\n",
    "    .addGrid(pipeline.getStages()[-1].elasticNetParam, [0.0]) \\\n",
    "    .addGrid(pipeline.getStages()[-1].maxIter, [30]) \\\n",
    "    .build()"
   ]
  },
  {
   "cell_type": "markdown",
   "metadata": {},
   "source": [
    "Создаем экземпляр `BinaryClassificationEvaluator` для оценки модели."
   ]
  },
  {
   "cell_type": "code",
   "execution_count": 24,
   "metadata": {},
   "outputs": [],
   "source": [
    "cv_evaluator = BinaryClassificationEvaluator(labelCol=\"isBasicEconomy\")"
   ]
  },
  {
   "cell_type": "markdown",
   "metadata": {},
   "source": [
    "Создаем объект `CrossValidator`."
   ]
  },
  {
   "cell_type": "code",
   "execution_count": 25,
   "metadata": {},
   "outputs": [],
   "source": [
    "cross_validator = CrossValidator(estimator=pipeline,\n",
    "                                 estimatorParamMaps=param_grid,\n",
    "                                 evaluator=cv_evaluator,\n",
    "                                 numFolds=5)"
   ]
  },
  {
   "cell_type": "markdown",
   "metadata": {},
   "source": [
    "Обучаем модель конвейера с использованием кросс-валидации."
   ]
  },
  {
   "cell_type": "code",
   "execution_count": 26,
   "metadata": {},
   "outputs": [
    {
     "name": "stderr",
     "output_type": "stream",
     "text": [
      "[Stage 24:===================>                                  (53 + 16) / 148]\r"
     ]
    },
    {
     "name": "stderr",
     "output_type": "stream",
     "text": [
      "24/12/20 04:39:29 WARN InstanceBuilder: Failed to load implementation from:dev.ludovic.netlib.blas.JNIBLAS\n",
      "                                                                                \r"
     ]
    }
   ],
   "source": [
    "cv_model = cross_validator.fit(train_df)"
   ]
  },
  {
   "cell_type": "markdown",
   "metadata": {},
   "source": [
    "Выведем параметры **лучшей** модели, определенной в ходе кросс-валидации."
   ]
  },
  {
   "cell_type": "code",
   "execution_count": 27,
   "metadata": {},
   "outputs": [],
   "source": [
    "def get_best_model_params(cv_model: CrossValidatorModel) -> dict[str, float]:\n",
    "    \"\"\"\n",
    "    Получает параметры лучшей модели из объекта CrossValidatorModel.\n",
    "\n",
    "    Args:\n",
    "        cv_model: Объект CrossValidatorModel, содержащий лучшую модель.\n",
    "\n",
    "    Returns:\n",
    "        Dict[str, float]: Параметры лучшей модели.\n",
    "    \"\"\"\n",
    "    best_model = cv_model.bestModel\n",
    "    # Получаем параметры из логистической регрессии\n",
    "    best_params = {\n",
    "        \"regParam\": best_model.stages[-1].getRegParam(),  # Параметр регуляризации\n",
    "        \"elasticNetParam\": best_model.stages[-1].getElasticNetParam(),  # Параметр эластичной сети\n",
    "        \"maxIter\": best_model.stages[-1].getMaxIter()  # Количество итераций\n",
    "    }\n",
    "    return best_params\n"
   ]
  },
  {
   "cell_type": "code",
   "execution_count": 28,
   "metadata": {},
   "outputs": [
    {
     "name": "stdout",
     "output_type": "stream",
     "text": [
      "regParam: 0.01\n",
      "elasticNetParam: 0.0\n",
      "maxIter: 30\n"
     ]
    }
   ],
   "source": [
    "for key, value in get_best_model_params(cv_model=cv_model).items():\n",
    "    print(f\"{key}: {value}\")"
   ]
  },
  {
   "cell_type": "markdown",
   "metadata": {},
   "source": [
    "#### Анализ обученной модели\n",
    "\n",
    "Рассчитаем метрики на тестовом датасете."
   ]
  },
  {
   "cell_type": "code",
   "execution_count": 29,
   "metadata": {},
   "outputs": [
    {
     "name": "stdout",
     "output_type": "stream",
     "text": [
      "+--------------------+----------+---------------+------------------+------------+---------+------------------+------------------+--------------+-------------------+--------------+------------+--------------------+--------------------------------+---------------------+------------------------+-----------------------+--------------------------+--------------------+--------------------+--------------------+----------+--------------+\n",
      "|               legId|flightDate|startingAirport|destinationAirport|isRefundable|isNonStop|          baseFare|         totalFare|seatsRemaining|totalTravelDistance|airportFlights|totalFlights|otherAirportsFlights|relativeFlightShareOtherAirports|startingAirport_index|destinationAirport_index|startingAirport_encoded|destinationAirport_encoded|            features|       rawPrediction|         probability|prediction|isBasicEconomy|\n",
      "+--------------------+----------+---------------+------------------+------------+---------+------------------+------------------+--------------+-------------------+--------------+------------+--------------------+--------------------------------+---------------------+------------------------+-----------------------+--------------------------+--------------------+--------------------+--------------------+----------+--------------+\n",
      "|0003f8a28b5a37580...|2022-10-06|            LGA|               LAX|       false|    false|199.07000732421875|237.60000610351562|             9|             2659.0|          5553|       76330|               70777|             0.07845769105782952|                  1.0|                     0.0|         (15,[1],[1.0])|            (15,[0],[1.0])|(35,[1,15,30,31,3...|[-2.4490589673678...|[0.07950739232091...|       1.0|             1|\n",
      "|0003f8a28b5a37580...|2022-10-06|            LGA|               LAX|       false|    false| 257.6700134277344| 300.6000061035156|             9|             2659.0|         13681|      186775|              173094|             0.07903797936381388|                  1.0|                     0.0|         (15,[1],[1.0])|            (15,[0],[1.0])|(35,[1,15,30,31,3...|[-1.3924134285719...|[0.19902274622148...|       1.0|             1|\n",
      "|0008a612579bae594...|2022-11-10|            MIA|               EWR|       false|    false| 146.0500030517578| 186.1999969482422|             9|             1352.0|          2335|       43209|               40874|            0.057126779860057736|                  6.0|                    11.0|         (15,[6],[1.0])|           (15,[11],[1.0])|(35,[6,26,30,31,3...|[-2.1942249706651...|[0.10027028870165...|       1.0|             1|\n",
      "|0008a612579bae594...|2022-11-10|            MIA|               EWR|       false|    false|146.97999572753906| 187.1999969482422|             9|             1358.0|          2866|       52363|               49497|            0.057902499141362106|                  6.0|                    11.0|         (15,[6],[1.0])|           (15,[11],[1.0])|(35,[6,26,30,31,3...|[-2.1764622732344...|[0.10188418771573...|       1.0|             1|\n",
      "|001c925f6fe18b902...|2022-10-06|            ORD|               DFW|       false|     true| 137.6699981689453|162.60000610351562|             7|              799.0|          1140|       20505|               19365|             0.05886909372579396|                  4.0|                     4.0|         (15,[4],[1.0])|            (15,[4],[1.0])|(35,[4,19,30,31,3...|[-0.8554513247018...|[0.29829056952009...|       1.0|             1|\n",
      "|001f8e4f94ea892cb...|2022-10-06|            LGA|               MIA|       false|    false|352.55999755859375|411.20001220703125|             7|             1262.0|          3754|       51791|               48037|             0.07814809417740491|                  1.0|                     7.0|         (15,[1],[1.0])|            (15,[7],[1.0])|(35,[1,22,30,31,3...|[2.79849557468920...|[0.94259447363169...|       0.0|             1|\n",
      "|0033c19e7e4d69b21...|2022-11-10|            LGA|               CLT|       false|     true| 99.52999877929688| 121.5999984741211|             9|              543.0|          3744|       53385|               49641|             0.07542152656070587|                  1.0|                     8.0|         (15,[1],[1.0])|            (15,[8],[1.0])|(35,[1,23,30,31,3...|[-2.6586648811703...|[0.06545695840702...|       1.0|             1|\n",
      "|0033c19e7e4d69b21...|2022-11-10|            LGA|               CLT|       false|     true| 99.52999877929688| 121.5999984741211|             9|              545.0|          2244|       32168|               29924|              0.0749899746023259|                  1.0|                     8.0|         (15,[1],[1.0])|            (15,[8],[1.0])|(35,[1,23,30,31,3...|[-2.6814147254079...|[0.06407897892871...|       1.0|             1|\n",
      "|003501eadabd06666...|2022-11-10|            SFO|               ATL|       false|    false| 261.3900146484375|310.19000244140625|             7|             2236.0|          2872|       37293|               34421|             0.08343743644867958|                  3.0|                     6.0|         (15,[3],[1.0])|            (15,[6],[1.0])|(35,[3,21,30,31,3...|[0.05425306068014...|[0.51355993931218...|       0.0|             1|\n",
      "|0039075983a1124ed...|2022-10-06|            PHL|               JFK|       false|    false| 261.3900146484375|310.19000244140625|             9|             1429.0|          1236|       21776|               20540|             0.06017526777020448|                  9.0|                    12.0|         (15,[9],[1.0])|           (15,[12],[1.0])|(35,[9,27,30,31,3...|[-1.1200073395527...|[0.24600992214191...|       1.0|             1|\n",
      "|003d1be3469f68560...|2022-10-06|            JFK|               LAX|       false|    false|221.39999389648438| 267.2099914550781|             7|             3353.0|         10881|      187699|              176818|             0.06153785248108224|                 11.0|                     0.0|        (15,[11],[1.0])|            (15,[0],[1.0])|(35,[11,15,30,31,...|[-1.0604247104537...|[0.25722830034387...|       1.0|             1|\n",
      "|003e00b76ae72f6a5...|2022-07-01|            CLT|               BOS|       false|    false| 124.6500015258789|156.10000610351562|             9|              730.0|          8477|      136082|              127605|             0.06643156616120058|                  7.0|                     1.0|         (15,[7],[1.0])|            (15,[1],[1.0])|(35,[7,16,30,31,3...|[-2.0948307513826...|[0.10960026095648...|       1.0|             1|\n",
      "|004232041be9963ec...|2022-08-12|            LGA|               ORD|       false|    false|130.35000610351562|163.72999572753906|             9|              815.0|          2553|       33971|               31418|             0.08125915080527087|                  1.0|                     5.0|         (15,[1],[1.0])|            (15,[5],[1.0])|(35,[1,20,30,31,3...|[-2.4066883833006...|[0.08266409366191...|       1.0|             1|\n",
      "|004e3a48cf0870e13...|2022-10-06|            PHL|               BOS|       false|    false|161.86000061035156|196.10000610351562|             7|             1177.0|          6351|      110538|              104187|             0.06095770105675372|                  9.0|                     1.0|         (15,[9],[1.0])|            (15,[1],[1.0])|(35,[9,16,30,31,3...|[-0.9198898907448...|[0.28498033034992...|       1.0|             1|\n",
      "|005cda8b591aba77e...|2022-08-12|            LGA|               BOS|       false|     true| 73.48999786376953|  93.5999984741211|             9|              185.0|         15115|      202902|              187787|             0.08049012977469154|                  1.0|                     1.0|         (15,[1],[1.0])|            (15,[1],[1.0])|(35,[1,16,30,31,3...|[-2.7121029004458...|[0.06226295776142...|       1.0|             1|\n",
      "|005cda8b591aba77e...|2022-08-12|            LGA|               BOS|       false|     true| 78.13999938964844|  98.5999984741211|             9|              185.0|         10821|      143993|              133172|             0.08125581954164539|                  1.0|                     1.0|         (15,[1],[1.0])|            (15,[1],[1.0])|(35,[1,16,30,31,3...|[-2.6980145379255...|[0.06309061533957...|       1.0|             1|\n",
      "|006288dca42810dfb...|2022-10-06|            PHL|               ATL|       false|    false|272.55999755859375|322.20001220703125|             9|             1272.0|          1028|       17843|               16815|            0.061135890573892356|                  9.0|                     6.0|         (15,[9],[1.0])|            (15,[6],[1.0])|(35,[9,21,30,31,3...|[-0.7390402440254...|[0.32321405160955...|       1.0|             1|\n",
      "|0072e352a738934ed...|2022-07-16|            JFK|               CLT|       false|     true| 124.6500015258789|148.60000610351562|             9|              545.0|          1613|       27230|               25617|              0.0629659991411953|                 11.0|                     8.0|        (15,[11],[1.0])|            (15,[8],[1.0])|(35,[11,23,30,31,...|[-2.2839286745416...|[0.09246275645107...|       1.0|             1|\n",
      "|007a67f584109215d...|2022-10-06|            BOS|               ATL|       false|    false| 73.48999786376953| 102.5999984741211|             9|              947.0|         11166|      145845|              134679|             0.08290824850199363|                  0.0|                     6.0|         (15,[0],[1.0])|            (15,[6],[1.0])|(35,[0,21,30,31,3...|[-3.2660701682580...|[0.03675370259202...|       1.0|             1|\n",
      "|007a67f584109215d...|2022-10-06|            BOS|               ATL|       false|    false|180.47000122070312|217.61000061035156|             9|              947.0|          1480|       18809|               17329|             0.08540596687633446|                  0.0|                     6.0|         (15,[0],[1.0])|            (15,[6],[1.0])|(35,[0,21,30,31,3...|[-1.6834919538410...|[0.15663363011879...|       1.0|             1|\n",
      "+--------------------+----------+---------------+------------------+------------+---------+------------------+------------------+--------------+-------------------+--------------+------------+--------------------+--------------------------------+---------------------+------------------------+-----------------------+--------------------------+--------------------+--------------------+--------------------+----------+--------------+\n",
      "only showing top 20 rows\n",
      "\n"
     ]
    }
   ],
   "source": [
    "# Получаем датасет предсказаний\n",
    "test_df_predictions = cv_model.transform(test_df)\n",
    "\n",
    "# Извлекаем список колонок, устанавливаем цену на последнее место\n",
    "right_columns_order = test_df_predictions.columns\n",
    "right_columns_order.remove(\"isBasicEconomy\")\n",
    "right_columns_order.append(\"isBasicEconomy\")\n",
    "\n",
    "# Изменяем последовательность колонок и выводим датафрейм\n",
    "test_df_predictions = test_df_predictions.select(*right_columns_order)\n",
    "test_df_predictions.show()"
   ]
  },
  {
   "cell_type": "code",
   "execution_count": 30,
   "metadata": {},
   "outputs": [],
   "source": [
    "def evaluate_model(data: DataFrame, \n",
    "                   label_col: str) -> dict[str, float]:\n",
    "    \"\"\"\n",
    "    Оценивает модель с использованием метрик точности, полноты и F1-score.\n",
    "\n",
    "    Args:\n",
    "        data: DataFrame, содержащий предсказания и фактические метки.\n",
    "        label_col: Название колонки с меткой.\n",
    "\n",
    "    Returns:\n",
    "        dict[str, float]: Словарь с метриками точности, полноты и F1-score.\n",
    "    \"\"\"\n",
    "    # Вычисляем TP, FP, FN\n",
    "    tp = data.filter((F.col(label_col) == 1) &\n",
    "                     (F.col(\"prediction\") == 1)).count()\n",
    "    fp = data.filter((F.col(label_col) == 0) &\n",
    "                     (F.col(\"prediction\") == 1)).count()\n",
    "    fn = data.filter((F.col(label_col) == 1) &\n",
    "                     (F.col(\"prediction\") == 0)).count()\n",
    "\n",
    "    # Вычисляем метрики\n",
    "    precision = tp / (tp + fp) if (tp + fp) > 0 else 0\n",
    "    recall = tp / (tp + fn) if (tp + fn) > 0 else 0\n",
    "    f1 = (2 * (precision * recall) / (precision + recall)\n",
    "        if (precision + recall) > 0 else 0)\n",
    "\n",
    "    # Возвращаем словарь с метриками\n",
    "    return {\n",
    "        \"precision\": precision,\n",
    "        \"recall\": recall,\n",
    "        \"f1\": f1\n",
    "    }"
   ]
  },
  {
   "cell_type": "code",
   "execution_count": 31,
   "metadata": {},
   "outputs": [
    {
     "name": "stderr",
     "output_type": "stream",
     "text": [
      "[Stage 402:========================>                             (33 + 16) / 74]\r"
     ]
    },
    {
     "name": "stderr",
     "output_type": "stream",
     "text": [
      "[Stage 402:=====================================================> (72 + 2) / 74]\r"
     ]
    },
    {
     "name": "stdout",
     "output_type": "stream",
     "text": [
      "Metrics: {'precision': 0.41312069864133333, 'recall': 0.9365529858010808, 'f1': 0.5733377308436027}\n"
     ]
    },
    {
     "name": "stderr",
     "output_type": "stream",
     "text": [
      "                                                                                \r"
     ]
    }
   ],
   "source": [
    "metrics = evaluate_model(test_df_predictions, \"isBasicEconomy\")\n",
    "print(f\"Metrics: {metrics}\")"
   ]
  },
  {
   "cell_type": "markdown",
   "metadata": {},
   "source": [
    "Наблюдаем довольно низкую точность при высокой полноте. Попробуем подобрать `threshold`, чтобы максимизировать точность, но при этом удерживать полноту на заданном в постановке задачи уровне.\n",
    "Сначала рассчитаем `AUC ROC`, визуализируем `ROC` и `PR`-кривые и оценим ситуацию."
   ]
  },
  {
   "cell_type": "code",
   "execution_count": 32,
   "metadata": {},
   "outputs": [],
   "source": [
    "def calculate_auc_roc(model: LogisticRegressionModel, \n",
    "                      test_data: DataFrame,\n",
    "                      label_col: str) -> float:\n",
    "    \"\"\"\n",
    "    Рассчитывает значение AUC ROC для модели.\n",
    "\n",
    "    Args:\n",
    "        model: Обученная модель классификации.\n",
    "        test_data: Тестовый набор данных.\n",
    "        label_col: Название столбца с меткой.\n",
    "\n",
    "    Returns:\n",
    "        float: Значение AUC ROC.\n",
    "    \"\"\"\n",
    "    # Получаем прогнозы модели\n",
    "    predictions = model.transform(test_data)\n",
    "\n",
    "    # Создаем \"оценщик\" бинарной классификации\n",
    "    evaluator = BinaryClassificationEvaluator(\n",
    "        rawPredictionCol=\"rawPrediction\",\n",
    "        labelCol=label_col\n",
    "    )\n",
    "\n",
    "    # Вычисляем AUC ROC\n",
    "    auc_roc = evaluator.evaluate(predictions)\n",
    "\n",
    "    return auc_roc"
   ]
  },
  {
   "cell_type": "code",
   "execution_count": 33,
   "metadata": {},
   "outputs": [],
   "source": [
    "def prepare_metrics_df(predictions: DataFrame, label_col: str) -> DataFrame:\n",
    "    \"\"\"\n",
    "    Подготавливает DataFrame для расчета FPR, TPR и Precision.\n",
    "\n",
    "    Args:\n",
    "        predictions: DataFrame с прогнозами модели.\n",
    "        label_col: Название столбца с меткой.\n",
    "\n",
    "    Returns:\n",
    "        DataFrame: DataFrame с рассчитанными столбцами FPR, TPR и Precision.\n",
    "    \"\"\"\n",
    "    # Формируем датафрейм, содержащий результат предсказания,\n",
    "    # вероятность предсказания и метку\n",
    "    metrics_df = (\n",
    "        predictions\n",
    "        .select(\n",
    "            vector_to_array(\n",
    "                F.col(\"probability\")\n",
    "            ).getItem(1).alias(\"probability\"),\n",
    "            \n",
    "            F.col(label_col).alias(\"label\"),\n",
    "            F.col(\"prediction\").cast(\"int\").alias(\"prediction\")\n",
    "        )\n",
    "    )\n",
    "\n",
    "    # Сортируем датафрейм по значениям вероятности\n",
    "    metrics_df = metrics_df.orderBy(\"probability\")\n",
    "\n",
    "    # Рассчитываем количество положительных и отрицательных классов\n",
    "    pos_count = metrics_df.filter(metrics_df.label == 1).count()\n",
    "    neg_count = metrics_df.filter(metrics_df.label == 0).count()\n",
    "\n",
    "    # Рассчитываем значения FPR и TPR\n",
    "    window = Window.partitionBy().orderBy(F.desc(\"probability\"))\n",
    "    metrics_df = (\n",
    "        metrics_df\n",
    "        .withColumn(\"FP_cum\", \n",
    "                    F.sum(F.when(\n",
    "                        F.col(\"label\") == 0, 1\n",
    "                    ).otherwise(0)).over(window))\n",
    "        .withColumn(\"TP_cum\", F.sum(F.col(\"label\")).over(window))\n",
    "        .withColumn(\"FPR\", F.col(\"FP_cum\") / neg_count)\n",
    "        .withColumn(\"TPR\", F.col(\"TP_cum\") / pos_count)\n",
    "        .withColumn(\"Precision\", \n",
    "                    F.col(\"TP_cum\") / (F.col(\"TP_cum\") + F.col(\"FP_cum\")))\n",
    "    )\n",
    "\n",
    "    return metrics_df"
   ]
  },
  {
   "cell_type": "code",
   "execution_count": 34,
   "metadata": {},
   "outputs": [],
   "source": [
    "# def bucketize_metrics_df(metrics_df: DataFrame, \n",
    "#                          num_buckets: int = 1000) -> DataFrame:\n",
    "#     \"\"\"\n",
    "#     Применяет Bucketizer к DataFrame для уменьшения объёма данных, \n",
    "#     возвращаемых на драйвер.\n",
    "\n",
    "#     Args:\n",
    "#         metrics_df: DataFrame с рассчитанными столбцами FPR, TPR и Precision.\n",
    "#         num_buckets: Количество бакетов.\n",
    "\n",
    "#     Returns:\n",
    "#         DataFrame: Бакетизированный Dataframe.\n",
    "#     \"\"\"\n",
    "#     # Определяем границы бакетов\n",
    "#     bucketizer = Bucketizer(\n",
    "#         splits=list(np.linspace(0, 1, num_buckets + 1)),\n",
    "#         inputCol=\"probability\",\n",
    "#         outputCol=\"bucket\"\n",
    "#     )\n",
    "\n",
    "#     # Применяем Bucketizer\n",
    "#     metrics_df = bucketizer.setHandleInvalid(\"error\").transform(metrics_df)\n",
    "\n",
    "#     # Формируем одну точку из каждого бакета\n",
    "#     metrics_df = metrics_df.groupBy(\"bucket\").agg(\n",
    "#         F.avg(F.col(\"probability\")).alias(\"probability\"),\n",
    "#         F.avg(F.col(\"FPR\")).alias(\"FPR\"),\n",
    "#         F.avg(F.col(\"TPR\")).alias(\"TPR\"),\n",
    "#         F.avg(F.col(\"Precision\")).alias(\"Precision\")\n",
    "#     )\n",
    "\n",
    "#     return metrics_df"
   ]
  },
  {
   "cell_type": "code",
   "execution_count": 35,
   "metadata": {},
   "outputs": [],
   "source": [
    "from pyspark.ml.feature import Bucketizer\n",
    "import numpy as np\n",
    "from pyspark.sql import functions as F\n",
    "\n",
    "def bucketize_metrics_df(metrics_df: DataFrame, \n",
    "                         num_buckets: int = 1000) -> DataFrame:\n",
    "    \"\"\"\n",
    "    Применяет Bucketizer к DataFrame для уменьшения объёма данных, \n",
    "    возвращаемых на драйвер.\n",
    "\n",
    "    Args:\n",
    "        metrics_df: DataFrame с рассчитанными столбцами FPR, TPR и Precision.\n",
    "        num_buckets: Количество бакетов.\n",
    "\n",
    "    Returns:\n",
    "        DataFrame: Бакетизированный DataFrame.\n",
    "    \"\"\"\n",
    "    # Проверяем, что колонка probability является скалярной\n",
    "    if \"probability\" not in metrics_df.columns:\n",
    "        raise ValueError(\"Column 'probability' not found in DataFrame.\")\n",
    "\n",
    "    # Определяем границы бакетов\n",
    "    bucketizer = Bucketizer(\n",
    "        splits=list(np.linspace(0, 1, num_buckets + 1)),\n",
    "        inputCol=\"probability\",  # Используем scalar probability\n",
    "        outputCol=\"bucket\"\n",
    "    )\n",
    "\n",
    "    # Применяем Bucketizer\n",
    "    metrics_df = bucketizer.setHandleInvalid(\"error\").transform(metrics_df)\n",
    "\n",
    "    # Формируем одну точку из каждого бакета\n",
    "    metrics_df = metrics_df.groupBy(\"bucket\").agg(\n",
    "        F.avg(F.col(\"probability\")).alias(\"probability\"),\n",
    "        F.avg(F.col(\"FPR\")).alias(\"FPR\"),\n",
    "        F.avg(F.col(\"TPR\")).alias(\"TPR\"),\n",
    "        F.avg(F.col(\"Precision\")).alias(\"Precision\")\n",
    "    )\n",
    "\n",
    "    return metrics_df\n"
   ]
  },
  {
   "cell_type": "code",
   "execution_count": 36,
   "metadata": {},
   "outputs": [],
   "source": [
    "# def calculate_metrics(model: GBTClassificationModel, \n",
    "#                       test_data: DataFrame,\n",
    "#                       label_col: str) -> pd.DataFrame:\n",
    "#     \"\"\"\n",
    "#     Рассчитывает значения FPR, TPR и Precision для построения ROC и PR-кривых.\n",
    "\n",
    "#     Args:\n",
    "#         model: Обученная модель классификации.\n",
    "#         test_data: Тестовый набор данных.\n",
    "#         label_col: Название столбца с меткой.\n",
    "\n",
    "#     Returns:\n",
    "#         tuple[float, pd.DataFrame]: Кортеж из значения AUC ROC и DataFrame \n",
    "#                                     со значениями FPR, TPR и Precision.\n",
    "#     \"\"\"\n",
    "#     # Получаем прогнозы модели\n",
    "#     predictions = model.transform(test_data)\n",
    "\n",
    "#     # Подготавливаем DataFrame для расчета FPR, TPR и Precision\n",
    "#     metrics_df = prepare_metrics_df(predictions, label_col)\n",
    "\n",
    "#     # Применяем Bucketizer к DataFrame\n",
    "#     metrics_df = bucketize_metrics_df(metrics_df)\n",
    "\n",
    "#     return metrics_df.toPandas()"
   ]
  },
  {
   "cell_type": "code",
   "execution_count": 37,
   "metadata": {},
   "outputs": [],
   "source": [
    "def calculate_metrics(model: LogisticRegressionModel, \n",
    "                      test_data: DataFrame,\n",
    "                      label_col: str) -> pd.DataFrame:\n",
    "    \"\"\"\n",
    "    Рассчитывает значения FPR, TPR и Precision для построения ROC и PR-кривых.\n",
    "\n",
    "    Args:\n",
    "        model: Обученная модель классификации.\n",
    "        test_data: Тестовый набор данных.\n",
    "        label_col: Название столбца с меткой.\n",
    "\n",
    "    Returns:\n",
    "        tuple[float, pd.DataFrame]: Кортеж из значения AUC ROC и DataFrame \n",
    "                                    со значениями FPR, TPR и Precision.\n",
    "    \"\"\"\n",
    "    # Получаем прогнозы модели\n",
    "    predictions = model.transform(test_data)\n",
    "\n",
    "    # Подготавливаем DataFrame для расчета FPR, TPR и Precision\n",
    "    metrics_df = prepare_metrics_df(predictions, label_col)\n",
    "\n",
    "    # Применяем Bucketizer к DataFrame\n",
    "    metrics_df = bucketize_metrics_df(metrics_df)\n",
    "\n",
    "    return metrics_df.toPandas()\n"
   ]
  },
  {
   "cell_type": "code",
   "execution_count": 38,
   "metadata": {},
   "outputs": [],
   "source": [
    "def plot_roc_pr_curves(pd_data: pd.DataFrame, \n",
    "                       auc_roc: float) -> None:\n",
    "    \"\"\"\n",
    "    Визуализирует ROC и PR-кривые, добавляет на график AUC ROC.\n",
    "\n",
    "    Args:\n",
    "        pd_data: Pandas DataFrame, содержащий столбцы \n",
    "            \"FPR\", \"TPR\", \"Precision\".\n",
    "        auc_roc: Значение AUC-ROC.\n",
    "\n",
    "    Returns:\n",
    "        None\n",
    "    \"\"\"\n",
    "    fig, axes = plt.subplots(1, 2, figsize=(20, 6))\n",
    "\n",
    "    # Построение ROC-кривой\n",
    "    sns.lineplot(x=\"FPR\", y=\"TPR\", data=pd_data, ax=axes[0])\n",
    "    sns.lineplot(x=[0, 1], y=[0, 1], \n",
    "                 color=\"gray\", linestyle=\"--\", ax=axes[0])\n",
    "    axes[0].set_xlabel(\"False Positive Rate (FPR)\")\n",
    "    axes[0].set_ylabel(\"True Positive Rate (TPR)\")\n",
    "    axes[0].set_title(\"ROC Curve\")\n",
    "    axes[0].grid()\n",
    "\n",
    "    # Добавляем значение AUC-ROC в правом нижнем углу графика\n",
    "    axes[0].text(0.94, 0.06, f'AUC-ROC: {auc_roc:.2f}', \n",
    "                 transform=axes[0].transAxes,\n",
    "                 fontsize=12, verticalalignment='bottom', \n",
    "                 horizontalalignment='right',\n",
    "                 bbox=dict(facecolor='white', \n",
    "                           alpha=0.8), zorder=5)\n",
    "\n",
    "    # Построение PR-кривой\n",
    "    sns.lineplot(x=\"TPR\", y=\"Precision\", \n",
    "                 data=pd_data, ax=axes[1])\n",
    "    axes[1].set_xlabel(\"Recall\")\n",
    "    axes[1].set_ylabel(\"Precision\")\n",
    "    axes[1].set_title(\"PR Curve\")\n",
    "    axes[1].grid()\n",
    "\n",
    "    plt.tight_layout()\n",
    "    plt.show()"
   ]
  },
  {
   "cell_type": "code",
   "execution_count": 39,
   "metadata": {},
   "outputs": [
    {
     "name": "stdout",
     "output_type": "stream",
     "text": [
      "+--------------------+----------+---------------+------------------+--------------+------------+---------+------------------+------------------+--------------+-------------------+--------------+------------+--------------------+--------------------------------+\n",
      "|               legId|flightDate|startingAirport|destinationAirport|isBasicEconomy|isRefundable|isNonStop|          baseFare|         totalFare|seatsRemaining|totalTravelDistance|airportFlights|totalFlights|otherAirportsFlights|relativeFlightShareOtherAirports|\n",
      "+--------------------+----------+---------------+------------------+--------------+------------+---------+------------------+------------------+--------------+-------------------+--------------+------------+--------------------+--------------------------------+\n",
      "|0003f8a28b5a37580...|2022-10-06|            LGA|               LAX|             1|       false|    false|199.07000732421875|237.60000610351562|             9|             2659.0|          5553|       76330|               70777|             0.07845769105782952|\n",
      "|0003f8a28b5a37580...|2022-10-06|            LGA|               LAX|             1|       false|    false| 257.6700134277344| 300.6000061035156|             9|             2659.0|         13681|      186775|              173094|             0.07903797936381388|\n",
      "|0008a612579bae594...|2022-11-10|            MIA|               EWR|             1|       false|    false| 146.0500030517578| 186.1999969482422|             9|             1352.0|          2335|       43209|               40874|            0.057126779860057736|\n",
      "|0008a612579bae594...|2022-11-10|            MIA|               EWR|             1|       false|    false|146.97999572753906| 187.1999969482422|             9|             1358.0|          2866|       52363|               49497|            0.057902499141362106|\n",
      "|001c925f6fe18b902...|2022-10-06|            ORD|               DFW|             1|       false|     true| 137.6699981689453|162.60000610351562|             7|              799.0|          1140|       20505|               19365|             0.05886909372579396|\n",
      "|001f8e4f94ea892cb...|2022-10-06|            LGA|               MIA|             1|       false|    false|352.55999755859375|411.20001220703125|             7|             1262.0|          3754|       51791|               48037|             0.07814809417740491|\n",
      "|0033c19e7e4d69b21...|2022-11-10|            LGA|               CLT|             1|       false|     true| 99.52999877929688| 121.5999984741211|             9|              543.0|          3744|       53385|               49641|             0.07542152656070587|\n",
      "|0033c19e7e4d69b21...|2022-11-10|            LGA|               CLT|             1|       false|     true| 99.52999877929688| 121.5999984741211|             9|              545.0|          2244|       32168|               29924|              0.0749899746023259|\n",
      "|003501eadabd06666...|2022-11-10|            SFO|               ATL|             1|       false|    false| 261.3900146484375|310.19000244140625|             7|             2236.0|          2872|       37293|               34421|             0.08343743644867958|\n",
      "|0039075983a1124ed...|2022-10-06|            PHL|               JFK|             1|       false|    false| 261.3900146484375|310.19000244140625|             9|             1429.0|          1236|       21776|               20540|             0.06017526777020448|\n",
      "|003d1be3469f68560...|2022-10-06|            JFK|               LAX|             1|       false|    false|221.39999389648438| 267.2099914550781|             7|             3353.0|         10881|      187699|              176818|             0.06153785248108224|\n",
      "|003e00b76ae72f6a5...|2022-07-01|            CLT|               BOS|             1|       false|    false| 124.6500015258789|156.10000610351562|             9|              730.0|          8477|      136082|              127605|             0.06643156616120058|\n",
      "|004232041be9963ec...|2022-08-12|            LGA|               ORD|             1|       false|    false|130.35000610351562|163.72999572753906|             9|              815.0|          2553|       33971|               31418|             0.08125915080527087|\n",
      "|004e3a48cf0870e13...|2022-10-06|            PHL|               BOS|             1|       false|    false|161.86000061035156|196.10000610351562|             7|             1177.0|          6351|      110538|              104187|             0.06095770105675372|\n",
      "|005cda8b591aba77e...|2022-08-12|            LGA|               BOS|             1|       false|     true| 73.48999786376953|  93.5999984741211|             9|              185.0|         15115|      202902|              187787|             0.08049012977469154|\n",
      "|005cda8b591aba77e...|2022-08-12|            LGA|               BOS|             1|       false|     true| 78.13999938964844|  98.5999984741211|             9|              185.0|         10821|      143993|              133172|             0.08125581954164539|\n",
      "|006288dca42810dfb...|2022-10-06|            PHL|               ATL|             1|       false|    false|272.55999755859375|322.20001220703125|             9|             1272.0|          1028|       17843|               16815|            0.061135890573892356|\n",
      "|0072e352a738934ed...|2022-07-16|            JFK|               CLT|             1|       false|     true| 124.6500015258789|148.60000610351562|             9|              545.0|          1613|       27230|               25617|              0.0629659991411953|\n",
      "|007a67f584109215d...|2022-10-06|            BOS|               ATL|             1|       false|    false| 73.48999786376953| 102.5999984741211|             9|              947.0|         11166|      145845|              134679|             0.08290824850199363|\n",
      "|007a67f584109215d...|2022-10-06|            BOS|               ATL|             1|       false|    false|180.47000122070312|217.61000061035156|             9|              947.0|          1480|       18809|               17329|             0.08540596687633446|\n",
      "+--------------------+----------+---------------+------------------+--------------+------------+---------+------------------+------------------+--------------+-------------------+--------------+------------+--------------------+--------------------------------+\n",
      "only showing top 20 rows\n",
      "\n"
     ]
    }
   ],
   "source": [
    "test_df.show()"
   ]
  },
  {
   "cell_type": "code",
   "execution_count": 40,
   "metadata": {},
   "outputs": [
    {
     "name": "stderr",
     "output_type": "stream",
     "text": [
      "                                                                                \r"
     ]
    },
    {
     "name": "stderr",
     "output_type": "stream",
     "text": [
      "24/12/20 05:16:43 WARN WindowExec: No Partition Defined for Window operation! Moving all data to a single partition, this can cause serious performance degradation.\n",
      "24/12/20 05:16:43 WARN WindowExec: No Partition Defined for Window operation! Moving all data to a single partition, this can cause serious performance degradation.\n",
      "24/12/20 05:16:43 WARN WindowExec: No Partition Defined for Window operation! Moving all data to a single partition, this can cause serious performance degradation.\n",
      "24/12/20 05:16:43 WARN WindowExec: No Partition Defined for Window operation! Moving all data to a single partition, this can cause serious performance degradation.\n",
      "24/12/20 05:17:30 WARN WindowExec: No Partition Defined for Window operation! Moving all data to a single partition, this can cause serious performance degradation.\n",
      "24/12/20 05:17:30 WARN WindowExec: No Partition Defined for Window operation! Moving all data to a single partition, this can cause serious performance degradation.\n",
      "24/12/20 05:17:32 WARN WindowExec: No Partition Defined for Window operation! Moving all data to a single partition, this can cause serious performance degradation.\n",
      "24/12/20 05:17:32 WARN WindowExec: No Partition Defined for Window operation! Moving all data to a single partition, this can cause serious performance degradation.\n",
      "                                                                                \r"
     ]
    },
    {
     "data": {
      "image/png": "[encoded data removed]",
      "text/plain": [
       "<Figure size 2000x600 with 2 Axes>"
      ]
     },
     "metadata": {},
     "output_type": "display_data"
    }
   ],
   "source": [
    "# Рассчитываем AUC ROC\n",
    "auc_roc = calculate_auc_roc(model=cv_model,\n",
    "                            test_data=test_df,\n",
    "                            label_col=\"isBasicEconomy\")\n",
    "pd_dataframe = calculate_metrics(model=cv_model,\n",
    "                                  test_data=test_df,\n",
    "                                  label_col=\"isBasicEconomy\") \n",
    "plot_roc_pr_curves(pd_dataframe, auc_roc)\n"
   ]
  },
  {
   "cell_type": "code",
   "execution_count": 41,
   "metadata": {},
   "outputs": [
    {
     "name": "stdout",
     "output_type": "stream",
     "text": [
      "CrossValidatorModel_b384ac543746\n",
      "0.9589615566897857\n"
     ]
    }
   ],
   "source": [
    "print(cv_model)\n",
    "print (auc_roc)"
   ]
  },
  {
   "cell_type": "markdown",
   "metadata": {},
   "source": [
    "Определим вероятность -- границу разделения, при которой `Recall` не меньше 60%."
   ]
  },
  {
   "cell_type": "code",
   "execution_count": 42,
   "metadata": {},
   "outputs": [
    {
     "name": "stdout",
     "output_type": "stream",
     "text": [
      "Вероятность -- граница разделения, при которой TPR не меньше 60%: 0.84\n"
     ]
    }
   ],
   "source": [
    "threshold_probability = pd_dataframe[pd_dataframe['TPR'] >= 0.60]['probability'].max()\n",
    "print(f\"Вероятность -- граница разделения, при которой TPR не меньше 60%: {threshold_probability:.2f}\")"
   ]
  },
  {
   "cell_type": "markdown",
   "metadata": {},
   "source": [
    "Рассчитаем метрики на тестовом датасете повторно, с учетом вычисленного `threshold` для вероятности."
   ]
  },
  {
   "cell_type": "code",
   "execution_count": 43,
   "metadata": {},
   "outputs": [
    {
     "name": "stderr",
     "output_type": "stream",
     "text": [
      "[Stage 436:=====================================================> (72 + 2) / 74]\r"
     ]
    },
    {
     "name": "stdout",
     "output_type": "stream",
     "text": [
      "Metrics: {'precision': 0.7128671684984456, 'recall': 0.6011261790473633, 'f1': 0.6522454896261858}\n"
     ]
    },
    {
     "name": "stderr",
     "output_type": "stream",
     "text": [
      "                                                                                \r"
     ]
    }
   ],
   "source": [
    "cv_model.bestModel.stages[-1].setThresholds([1 - threshold_probability, \n",
    "                                             threshold_probability])\n",
    "test_df_predictions = cv_model.transform(test_df)\n",
    "metrics = evaluate_model(test_df_predictions, \"isBasicEconomy\")\n",
    "print(f\"Metrics: {metrics}\")"
   ]
  },
  {
   "cell_type": "markdown",
   "metadata": {},
   "source": [
    "Обученная модель обладает не очень хорошим качеством. Для дальнейшего улучшения качества предсказания можно подобрать другую модель, сформировать другие признаки, добавить к модели дополнительные данные и т.д."
   ]
  },
  {
   "cell_type": "markdown",
   "metadata": {},
   "source": [
    "Не забываем завершать `Spark`-сессию."
   ]
  },
  {
   "cell_type": "code",
   "execution_count": 44,
   "metadata": {},
   "outputs": [],
   "source": [
    "spark.stop()"
   ]
  }
 ],
 "metadata": {
  "kernelspec": {
   "display_name": "pyspark-env",
   "language": "python",
   "name": "python3"
  },
  "language_info": {
   "codemirror_mode": {
    "name": "ipython",
    "version": 3
   },
   "file_extension": ".py",
   "mimetype": "text/x-python",
   "name": "python",
   "nbconvert_exporter": "python",
   "pygments_lexer": "ipython3",
   "version": "3.11.9"
  }
 },
 "nbformat": 4,
 "nbformat_minor": 2
}
