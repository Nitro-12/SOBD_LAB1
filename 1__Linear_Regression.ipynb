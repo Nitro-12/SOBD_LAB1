{
 "cells": [
  {
   "cell_type": "markdown",
   "metadata": {},
   "source": [
    "## Лабораторная работа № 2 \n",
    "## Машинное обучение на больших данных с использованием фреймворка Apache Spark и библиотеки SparkML"
   ]
  },
  {
   "cell_type": "markdown",
   "metadata": {},
   "source": [
    "### Часть 1\n",
    "\n",
    "В данной части работы рассмотрены:\n",
    "* подготовка признаков для рашения задачи **линейной регрессии**;\n",
    "* создание и обучение модели линейной регрессии;\n",
    "* оценка качества модели."
   ]
  },
  {
   "cell_type": "markdown",
   "metadata": {},
   "source": [
    "#### Запуск `Spark`-сессии\n",
    "\n",
    "Подключаем необходимые библиотеки."
   ]
  },
  {
   "cell_type": "code",
   "execution_count": 1,
   "metadata": {},
   "outputs": [],
   "source": [
    "import os\n",
    "import csv\n",
    "from pyspark.sql import SparkSession, DataFrame\n",
    "from pyspark import SparkConf\n",
    "from pyspark.ml.feature import VectorAssembler, StringIndexer, OneHotEncoder, MinMaxScaler, Binarizer\n",
    "from pyspark.ml.regression import LinearRegression, RandomForestRegressor\n",
    "from pyspark.ml.evaluation import RegressionEvaluator\n",
    "from pyspark.ml.tuning import CrossValidator, CrossValidatorModel, ParamGridBuilder\n",
    "from pyspark.ml import Pipeline\n",
    "from pyspark.sql.functions import col\n",
    "from pyspark.sql.types import DoubleType\n",
    "import seaborn as sns\n",
    "import matplotlib.pyplot as plt"
   ]
  },
  {
   "cell_type": "markdown",
   "metadata": {},
   "source": [
    "Сформируем объект конфигурации для `Apache Spark`, указав необходимые параметры."
   ]
  },
  {
   "cell_type": "code",
   "execution_count": 2,
   "metadata": {},
   "outputs": [],
   "source": [
    "def create_spark_configuration() -> SparkConf:\n",
    "    \"\"\"\n",
    "    Создает и конфигурирует экземпляр SparkConf для приложения Spark.\n",
    "\n",
    "    Returns:\n",
    "        SparkConf: Настроенный экземпляр SparkConf.\n",
    "    \"\"\"\n",
    "    # Получаем имя пользователя\n",
    "    user_name = os.getenv(\"USER\")\n",
    "    \n",
    "    conf = SparkConf()\n",
    "    conf.setAppName(\"lab 2 Test Kachurin\")\n",
    "    conf.setMaster(\"yarn\")\n",
    "    conf.set(\"spark.submit.deployMode\", \"client\")\n",
    "    conf.set(\"spark.executor.memory\", \"12g\")\n",
    "    conf.set(\"spark.executor.cores\", \"8\")\n",
    "    conf.set(\"spark.executor.instances\", \"2\")\n",
    "    conf.set(\"spark.driver.memory\", \"4g\")\n",
    "    conf.set(\"spark.driver.cores\", \"2\")\n",
    "    conf.set(\"spark.jars.packages\", \"org.apache.iceberg:iceberg-spark-runtime-3.5_2.12:1.6.0\")\n",
    "    conf.set(\"spark.sql.extensions\", \"org.apache.iceberg.spark.extensions.IcebergSparkSessionExtensions\")\n",
    "    conf.set(\"spark.sql.catalog.spark_catalog\", \"org.apache.iceberg.spark.SparkCatalog\")\n",
    "    conf.set(\"spark.sql.catalog.spark_catalog.type\", \"hadoop\")\n",
    "    conf.set(\"spark.sql.catalog.spark_catalog.warehouse\", f\"hdfs:///user/{user_name}/warehouse\")\n",
    "    conf.set(\"spark.sql.catalog.spark_catalog.io-impl\", \"org.apache.iceberg.hadoop.HadoopFileIO\")\n",
    "\n",
    "    return conf"
   ]
  },
  {
   "cell_type": "markdown",
   "metadata": {},
   "source": [
    "Создаём сам объект конфигурации."
   ]
  },
  {
   "cell_type": "code",
   "execution_count": 3,
   "metadata": {},
   "outputs": [],
   "source": [
    "conf = create_spark_configuration()"
   ]
  },
  {
   "cell_type": "markdown",
   "metadata": {},
   "source": [
    "Создаём и выводим на экран сессию `Apache Spark`. В процессе создания сессии происходит подключение к кластеру `Apache Hadoop`, что может занять некоторое время."
   ]
  },
  {
   "cell_type": "code",
   "execution_count": 4,
   "metadata": {},
   "outputs": [
    {
     "name": "stdout",
     "output_type": "stream",
     "text": [
      ":: loading settings :: url = jar:file:/opt/spark-3.5.2-bin-hadoop3/jars/ivy-2.5.1.jar!/org/apache/ivy/core/settings/ivysettings.xml\n"
     ]
    },
    {
     "name": "stderr",
     "output_type": "stream",
     "text": [
      "Ivy Default Cache set to: /home/user6/.ivy2/cache\n",
      "The jars for the packages stored in: /home/user6/.ivy2/jars\n",
      "org.apache.iceberg#iceberg-spark-runtime-3.5_2.12 added as a dependency\n",
      ":: resolving dependencies :: org.apache.spark#spark-submit-parent-67024e51-86a1-4660-aff5-d7b4fe7a3dc0;1.0\n",
      "\tconfs: [default]\n",
      "\tfound org.apache.iceberg#iceberg-spark-runtime-3.5_2.12;1.6.0 in central\n",
      ":: resolution report :: resolve 795ms :: artifacts dl 25ms\n",
      "\t:: modules in use:\n",
      "\torg.apache.iceberg#iceberg-spark-runtime-3.5_2.12;1.6.0 from central in [default]\n",
      "\t---------------------------------------------------------------------\n",
      "\t|                  |            modules            ||   artifacts   |\n",
      "\t|       conf       | number| search|dwnlded|evicted|| number|dwnlded|\n",
      "\t---------------------------------------------------------------------\n",
      "\t|      default     |   1   |   0   |   0   |   0   ||   1   |   0   |\n",
      "\t---------------------------------------------------------------------\n",
      ":: retrieving :: org.apache.spark#spark-submit-parent-67024e51-86a1-4660-aff5-d7b4fe7a3dc0\n",
      "\tconfs: [default]\n",
      "\t0 artifacts copied, 1 already retrieved (0kB/29ms)\n",
      "Setting default log level to \"WARN\".\n",
      "To adjust logging level use sc.setLogLevel(newLevel). For SparkR, use setLogLevel(newLevel).\n",
      "24/12/16 17:26:32 WARN Utils: Service 'SparkUI' could not bind on port 4040. Attempting port 4041.\n",
      "24/12/16 17:26:32 WARN Utils: Service 'SparkUI' could not bind on port 4041. Attempting port 4042.\n",
      "24/12/16 17:26:32 WARN Utils: Service 'SparkUI' could not bind on port 4042. Attempting port 4043.\n",
      "24/12/16 17:26:37 WARN Client: Neither spark.yarn.jars nor spark.yarn.archive is set, falling back to uploading libraries under SPARK_HOME.\n",
      "24/12/16 17:26:59 WARN Client: Same path resource file:///home/user6/.ivy2/jars/org.apache.iceberg_iceberg-spark-runtime-3.5_2.12-1.6.0.jar added multiple times to distributed cache.\n"
     ]
    },
    {
     "data": {
      "text/html": [
       "\n",
       "            <div>\n",
       "                <p><b>SparkSession - in-memory</b></p>\n",
       "                \n",
       "        <div>\n",
       "            <p><b>SparkContext</b></p>\n",
       "\n",
       "            <p><a href=\"http://node32.cluster:4043\">Spark UI</a></p>\n",
       "\n",
       "            <dl>\n",
       "              <dt>Version</dt>\n",
       "                <dd><code>v3.5.2</code></dd>\n",
       "              <dt>Master</dt>\n",
       "                <dd><code>yarn</code></dd>\n",
       "              <dt>AppName</dt>\n",
       "                <dd><code>lab 2 Test Kachurin</code></dd>\n",
       "            </dl>\n",
       "        </div>\n",
       "        \n",
       "            </div>\n",
       "        "
      ],
      "text/plain": [
       "<pyspark.sql.session.SparkSession at 0x7fd1f7597a50>"
      ]
     },
     "execution_count": 4,
     "metadata": {},
     "output_type": "execute_result"
    }
   ],
   "source": [
    "spark = SparkSession.builder.config(conf=conf).getOrCreate()\n",
    "spark"
   ]
  },
  {
   "cell_type": "markdown",
   "metadata": {},
   "source": [
    "#### Загрузка датасета\n",
    "\n",
    "Укажем базу данных, которая была создана в первой лабораторной работе."
   ]
  },
  {
   "cell_type": "code",
   "execution_count": 5,
   "metadata": {},
   "outputs": [],
   "source": [
    "database_name = \"kachurin_database\""
   ]
  },
  {
   "cell_type": "markdown",
   "metadata": {},
   "source": [
    "Установим созданную базу данных как текущую."
   ]
  },
  {
   "cell_type": "code",
   "execution_count": 6,
   "metadata": {},
   "outputs": [],
   "source": [
    "spark.catalog.setCurrentDatabase(database_name)"
   ]
  },
  {
   "cell_type": "markdown",
   "metadata": {},
   "source": [
    "Прочитаем таблицу с **предобработанным датасетом** и загрузим её в `Spark Dataframe`."
   ]
  },
  {
   "cell_type": "code",
   "execution_count": 7,
   "metadata": {},
   "outputs": [],
   "source": [
    "df = spark.table(\"sobd_lab1_processed_table_1\")"
   ]
  },
  {
   "cell_type": "markdown",
   "metadata": {},
   "source": [
    "Выведем прочитанную таблицу на экран."
   ]
  },
  {
   "cell_type": "code",
   "execution_count": 8,
   "metadata": {},
   "outputs": [
    {
     "name": "stderr",
     "output_type": "stream",
     "text": [
      "                                                                                \r"
     ]
    },
    {
     "name": "stdout",
     "output_type": "stream",
     "text": [
      "+--------------------+----------+---------------+------------------+--------------+------------+---------+------------------+------------------+--------------+-------------------+--------------+------------+--------------------+--------------------------------+\n",
      "|               legId|flightDate|startingAirport|destinationAirport|isBasicEconomy|isRefundable|isNonStop|          baseFare|         totalFare|seatsRemaining|totalTravelDistance|airportFlights|totalFlights|otherAirportsFlights|relativeFlightShareOtherAirports|\n",
      "+--------------------+----------+---------------+------------------+--------------+------------+---------+------------------+------------------+--------------+-------------------+--------------+------------+--------------------+--------------------------------+\n",
      "|f38c6c38eddff88d2...|2022-07-01|            ATL|               BOS|         false|       false|    false|320.92999267578125| 368.6000061035156|             1|              947.0|             6|         173|                 167|             0.03592814371257485|\n",
      "|1f5752e26a41362ae...|2022-07-01|            ATL|               DEN|         false|       false|    false| 438.1400146484375| 494.6000061035156|             7|             1375.0|             7|         174|                 167|            0.041916167664670656|\n",
      "|b74157fc55a71e2e2...|2022-07-01|            ATL|               LAX|         false|       false|    false| 739.5399780273438| 818.6099853515625|             2|             2074.0|             8|         175|                 167|             0.04790419161676647|\n",
      "|61f35facce29c5b77...|2022-07-01|            ATL|               SFO|         false|       false|     true| 403.7200012207031| 448.6000061035156|             9|             2135.0|             9|         176|                 167|             0.05389221556886228|\n",
      "|4e15b55a64d69e88f...|2022-07-01|            ATL|               SFO|         false|       false|    false| 621.8200073242188| 697.6599731445312|             7|             3328.0|            10|         177|                 167|            0.059880239520958084|\n",
      "|0b61bf381f5e342e5...|2022-07-01|            ATL|               LGA|         false|       false|     true|217.67999267578125|248.61000061035156|             7|              762.0|            11|         200|                 189|              0.0582010582010582|\n",
      "|909924cf1cc9bfd9a...|2022-07-01|            ATL|               LGA|         false|       false|    false|399.07000732421875| 452.6000061035156|             4|             2105.0|            12|         201|                 189|             0.06349206349206349|\n",
      "|9f7eedaa62dec44a4...|2022-07-01|            ATL|               LAX|         false|       false|     true| 282.7900085449219| 318.6000061035156|             9|             1897.0|            13|         224|                 211|            0.061611374407582936|\n",
      "|9fcad3bf0abb87082...|2022-07-01|            ATL|               OAK|         false|       false|    false| 413.0299987792969| 477.7099914550781|             3|             2477.0|            14|         225|                 211|             0.06635071090047394|\n",
      "|a80ab30d556ecd891...|2022-07-01|            ATL|               SFO|         false|       false|    false| 429.7699890136719|491.20001220703125|             5|             2193.0|            15|         226|                 211|             0.07109004739336493|\n",
      "|73bfcf223a1f590a9...|2022-07-01|            ATL|               DTW|         false|       false|    false| 254.8800048828125| 296.1000061035156|             7|              733.0|            16|         306|                 290|             0.05517241379310345|\n",
      "|fc61882a258d6f719...|2022-07-01|            ATL|               DFW|         false|       false|    false| 395.3500061035156| 448.6000061035156|             2|              924.0|            17|         337|                 320|                        0.053125|\n",
      "|04e8ab0020a8f8a72...|2022-07-01|            ATL|               EWR|         false|       false|     true|329.29998779296875| 368.6000061035156|             9|              762.0|            18|         361|                 343|            0.052478134110787174|\n",
      "|cbd175802bc8aad45...|2022-07-01|            ATL|               DTW|         false|       false|    false|             320.0|373.20001220703125|             9|              664.0|            19|         367|                 348|             0.05459770114942529|\n",
      "|d88271053c8903155...|2022-07-01|            ATL|               MIA|         false|       false|    false| 574.8900146484375| 641.6099853515625|             9|             1649.0|            20|         368|                 348|             0.05747126436781609|\n",
      "|1cca889280b2add74...|2022-07-01|            ATL|               SFO|         false|       false|     true|  496.739990234375| 548.5999755859375|             9|             2135.0|            21|         369|                 348|              0.0603448275862069|\n",
      "|cff27d7fb8af4f8f9...|2022-07-01|            ATL|               BOS|         false|       false|    false|472.55999755859375| 530.0999755859375|             2|              956.0|            22|         397|                 375|            0.058666666666666666|\n",
      "|18c29ab208a4c43d1...|2022-07-01|            ATL|               JFK|         false|       false|    false| 365.5799865722656|422.20001220703125|             9|              941.0|            23|         398|                 375|             0.06133333333333333|\n",
      "|93f1cddf68a8e5404...|2022-07-01|            ATL|               PHL|         false|       false|     true|  366.510009765625| 408.6000061035156|             9|              667.0|            24|         399|                 375|                           0.064|\n",
      "|d785796f88d2606a7...|2022-07-01|            ATL|               SFO|         false|       false|    false| 452.0899963378906| 509.6000061035156|             1|             2193.0|            25|         403|                 378|             0.06613756613756613|\n",
      "+--------------------+----------+---------------+------------------+--------------+------------+---------+------------------+------------------+--------------+-------------------+--------------+------------+--------------------+--------------------------------+\n",
      "only showing top 20 rows\n",
      "\n"
     ]
    }
   ],
   "source": [
    "df.show()"
   ]
  },
  {
   "cell_type": "markdown",
   "metadata": {},
   "source": [
    "Вспомним описание столбцов и параметры датасета, проанализированные в первой лабораторной работе.\n",
    "Очевидно, что в целях сохранения ясности изложения и сокращения расчетного времени имеет смысл рассматривать не все столбцы датасета. Оставим следующие колонки, удалив остальные:\n",
    "\n",
    "| Название столбца            | Расшифровка                                                                 |\n",
    "| --------------------------- | --------------------------------------------------------------------------- |\n",
    "| legId                       | Идентификатор рейса                                                        |\n",
    "| flightDate                  | Дата вылета (YYYY-MM-DD)                                                   |\n",
    "| startingAirport             | Код аэропорта вылета (IATA)                                               |\n",
    "| destinationAirport          | Код аэропорта прилета (IATA)                                              |\n",
    "| isBasicEconomy              | Является ли билет экономичным (логическое значение)                       |\n",
    "| isRefundable                | Является ли билет возвратным (логическое значение)                        |\n",
    "| isNonStop                   | Является ли рейс прямым (логическое значение)                             |\n",
    "| baseFare                    | Базовая стоимость билета (в долларах США)                                 |\n",
    "| totalFare                   | Полная стоимость билета с учетом налогов и сборов (в долларах США)        |\n",
    "| seatsRemaining              | Количество оставшихся мест                                                |\n",
    "| totalTravelDistance         | Общая дистанция путешествия (в милях)                                     |\n"
   ]
  },
  {
   "cell_type": "markdown",
   "metadata": {},
   "source": [
    "Вспомним схему данных."
   ]
  },
  {
   "cell_type": "code",
   "execution_count": 9,
   "metadata": {},
   "outputs": [
    {
     "name": "stdout",
     "output_type": "stream",
     "text": [
      "root\n",
      " |-- legId: string (nullable = true)\n",
      " |-- flightDate: date (nullable = true)\n",
      " |-- startingAirport: string (nullable = true)\n",
      " |-- destinationAirport: string (nullable = true)\n",
      " |-- isBasicEconomy: boolean (nullable = true)\n",
      " |-- isRefundable: boolean (nullable = true)\n",
      " |-- isNonStop: boolean (nullable = true)\n",
      " |-- baseFare: double (nullable = true)\n",
      " |-- totalFare: double (nullable = true)\n",
      " |-- seatsRemaining: integer (nullable = true)\n",
      " |-- totalTravelDistance: float (nullable = true)\n",
      " |-- airportFlights: long (nullable = true)\n",
      " |-- totalFlights: long (nullable = true)\n",
      " |-- otherAirportsFlights: long (nullable = true)\n",
      " |-- relativeFlightShareOtherAirports: double (nullable = true)\n",
      "\n"
     ]
    }
   ],
   "source": [
    "df.printSchema()"
   ]
  },
  {
   "cell_type": "markdown",
   "metadata": {},
   "source": [
    "Вычислим количество строк в датафрейме."
   ]
  },
  {
   "cell_type": "code",
   "execution_count": 10,
   "metadata": {},
   "outputs": [
    {
     "name": "stderr",
     "output_type": "stream",
     "text": [
      "                                                                                \r"
     ]
    },
    {
     "data": {
      "text/plain": [
       "30655206"
      ]
     },
     "execution_count": 10,
     "metadata": {},
     "output_type": "execute_result"
    }
   ],
   "source": [
    "df.count()"
   ]
  },
  {
   "cell_type": "markdown",
   "metadata": {},
   "source": [
    "#### Постановка задачи линейной регрессии\n",
    "\n",
    "Для датасета, заданного представленными колонками, требуется построить модель линейной регрессии для оценки **стоимости автомобиля** по всем остальным признакам. \n",
    "\n",
    "Для оценки качества обучения следует использовать метрики $RMSE$ и $R^2$."
   ]
  },
  {
   "cell_type": "markdown",
   "metadata": {},
   "source": [
    "#### Подготовка и кодирование признаков\n",
    "\n",
    "Для корректной работы трансформеров преобразуем столбец `mileage` к типу `DoubleType`."
   ]
  },
  {
   "cell_type": "code",
   "execution_count": 11,
   "metadata": {},
   "outputs": [],
   "source": [
    "#df = df.withColumn(\"mileage\", col(\"mileage\").cast(DoubleType()))"
   ]
  },
  {
   "cell_type": "markdown",
   "metadata": {},
   "source": [
    "Отделим от датасета некоторую часть объёмом примерно 1000 строк, и сохраним её на диске как локальный `csv`-файл. Он понадобится в следующей лабораторной работе."
   ]
  },
  {
   "cell_type": "code",
   "execution_count": 12,
   "metadata": {},
   "outputs": [],
   "source": [
    "def save_sample_to_csv(data: DataFrame, file_path: str, \n",
    "                       sample_size: int = 1000) -> DataFrame:\n",
    "    \"\"\"\n",
    "    Сохраняет первые `sample_size` строк из DataFrame в CSV-файл \n",
    "    на драйвере и возвращает DataFrame с оставшимися данными.\n",
    "\n",
    "    Args:\n",
    "        data (DataFrame): DataFrame, из которого нужно извлечь\n",
    "            строки.\n",
    "        file_path (str): Путь для сохранения CSV-файла.\n",
    "        sample_size (int): Количество строк для сохранения\n",
    "            (по умолчанию 1000).\n",
    "\n",
    "    Returns:\n",
    "        DataFrame: DataFrame с оставшимися данными.\n",
    "    \"\"\"\n",
    "    # Определяем пропорции для разделения\n",
    "    sample_fraction = sample_size / data.count()\n",
    "    remaining_fraction = 1 - sample_fraction\n",
    "\n",
    "    # Разделяем DataFrame на два непересекающихся набора данных\n",
    "    sample_data, remaining_data = data.randomSplit(\n",
    "        [sample_fraction, remaining_fraction]\n",
    "    )\n",
    "\n",
    "    # Сохраняем извлеченные строки в CSV-файл на драйвере\n",
    "    try:\n",
    "        with open(file_path, mode=\"w\", newline=\"\") as file:\n",
    "            writer = csv.writer(file)\n",
    "\n",
    "            # Записываем заголовок\n",
    "            writer.writerow(data.columns)\n",
    "\n",
    "            # Записываем строки\n",
    "            for row in sample_data.take(sample_size):\n",
    "                writer.writerow(row)\n",
    "        print(f\"Файл \\\"{file_path}\\\" с данными успешно создан.\")\n",
    "\n",
    "    except Exception as e:\n",
    "        print(f\"Ошибка при записи файла: {e}\")\n",
    "\n",
    "    return remaining_data"
   ]
  },
  {
   "cell_type": "markdown",
   "metadata": {},
   "source": [
    "Определяем путь для сохранения `csv`-файла."
   ]
  },
  {
   "cell_type": "code",
   "execution_count": 13,
   "metadata": {},
   "outputs": [
    {
     "name": "stderr",
     "output_type": "stream",
     "text": [
      "                                                                                \r"
     ]
    },
    {
     "name": "stdout",
     "output_type": "stream",
     "text": [
      "Файл \"streaming-data_1.csv\" с данными успешно создан.\n"
     ]
    }
   ],
   "source": [
    "path = \"streaming-data_1.csv\"\n",
    "\n",
    "df = save_sample_to_csv(data=df, file_path=path, sample_size=1000)"
   ]
  },
  {
   "cell_type": "markdown",
   "metadata": {},
   "source": [
    "Оцениваем, сколько строк в датасете осталось."
   ]
  },
  {
   "cell_type": "code",
   "execution_count": 14,
   "metadata": {},
   "outputs": [
    {
     "name": "stderr",
     "output_type": "stream",
     "text": [
      "                                                                                \r"
     ]
    },
    {
     "data": {
      "text/plain": [
       "30654171"
      ]
     },
     "execution_count": 14,
     "metadata": {},
     "output_type": "execute_result"
    }
   ],
   "source": [
    "df.count()"
   ]
  },
  {
   "cell_type": "markdown",
   "metadata": {},
   "source": [
    "Разделим датасет на обучающую и тестовую выборки."
   ]
  },
  {
   "cell_type": "code",
   "execution_count": 15,
   "metadata": {},
   "outputs": [],
   "source": [
    "train_df, test_df = df.randomSplit([0.8, 0.2])"
   ]
  },
  {
   "cell_type": "code",
   "execution_count": 16,
   "metadata": {},
   "outputs": [
    {
     "name": "stderr",
     "output_type": "stream",
     "text": [
      "[Stage 14:>                                                       (0 + 16) / 37]\r"
     ]
    },
    {
     "name": "stderr",
     "output_type": "stream",
     "text": [
      "                                                                                \r"
     ]
    },
    {
     "name": "stdout",
     "output_type": "stream",
     "text": [
      "Train dataset size: 24525913\n"
     ]
    },
    {
     "name": "stderr",
     "output_type": "stream",
     "text": [
      "[Stage 17:====================================================>   (35 + 2) / 37]\r"
     ]
    },
    {
     "name": "stdout",
     "output_type": "stream",
     "text": [
      "Test  dataset size: 6128258\n"
     ]
    },
    {
     "name": "stderr",
     "output_type": "stream",
     "text": [
      "                                                                                \r"
     ]
    }
   ],
   "source": [
    "print(f\"Train dataset size: {train_df.count()}\")\n",
    "print(f\"Test  dataset size: {test_df.count()}\")"
   ]
  },
  {
   "cell_type": "markdown",
   "metadata": {},
   "source": [
    "Понятно, что **идентификационный номер** автомобиля не оказывает влияния на цену. Использовать его в модели нет смысла.\n",
    "\n",
    "Остальные признаки сгруппируем по их типу:\n",
    "\n",
    "* **Категориальные** признаки не содержат большого количества категорий, закодируем их `one-hot`-кодировкой.\n",
    "* **Бинарные** признаки представлены значениями `true` / `false`, которые могут быть интерпретированы как единица и нуль. Поэтому, в кодировании не нуждаются.\n",
    "* **Количественные** признаки нужно нормализовать / стандартизировать, перед тем, как передавать их в модель.\n",
    "* Среди количественных признаков выделяется `mileage`, который по своим значениям больше напоминает бинарный. **Бинаризуем** его по порогу `100`."
   ]
  },
  {
   "cell_type": "code",
   "execution_count": 17,
   "metadata": {},
   "outputs": [],
   "source": [
    "categorical_features = [\"startingAirport\", \"destinationAirport\"]\n",
    "binary_features = [\"isBasicEconomy\", \"isRefundable\", \"isNonStop\"]\n",
    "numeric_features = [\"seatsRemaining\", \"totalTravelDistance\", \n",
    "                    \"airportFlights\", \"totalFlights\"]"
   ]
  },
  {
   "cell_type": "markdown",
   "metadata": {},
   "source": [
    "Создадим конвейер обработки данных, включающий модель линейной регрессии."
   ]
  },
  {
   "cell_type": "code",
   "execution_count": 18,
   "metadata": {},
   "outputs": [],
   "source": [
    "def create_pipeline(categorical_features: list[str], numeric_features: list[str], \n",
    "                    binary_features: list[str], label_col: str, num_trees: int, max_depth: int) -> Pipeline:\n",
    "    \n",
    "    # Формируем названия колонок для индексированных категориальных признаков\n",
    "    indexed_categorical_features = [f\"{feature}_index\" for feature in categorical_features]\n",
    "    \n",
    "    # Выполняем преобразования данных\n",
    "    string_indexer = StringIndexer(inputCols=categorical_features,\n",
    "                                   outputCols=indexed_categorical_features,\n",
    "                                   handleInvalid=\"keep\")\n",
    "    \n",
    "    # Сборка всех признаков в единый вектор\n",
    "    vector_all_assembler = VectorAssembler(\n",
    "        inputCols=(indexed_categorical_features + numeric_features + binary_features),\n",
    "        outputCol=\"features\"\n",
    "    )\n",
    "\n",
    "    # Создаем модель случайного леса\n",
    "    random_forest = RandomForestRegressor(featuresCol=\"features\",\n",
    "                                          labelCol=label_col,\n",
    "                                          predictionCol=\"prediction\",\n",
    "                                          numTrees=num_trees,\n",
    "                                          maxDepth=max_depth)\n",
    "\n",
    "    # Создаем конвейер\n",
    "    pipeline = Pipeline(stages=[\n",
    "        string_indexer, vector_all_assembler, random_forest\n",
    "    ])\n",
    "\n",
    "    return pipeline"
   ]
  },
  {
   "cell_type": "code",
   "execution_count": 19,
   "metadata": {},
   "outputs": [],
   "source": [
    "# def create_pipeline(categorical_features: list[str], numeric_features: list[str], \n",
    "#                     binary_features: list[str], binarized_col: str, \n",
    "#                     threshold: float, label_col: str, max_iter: int) -> Pipeline:\n",
    "    \n",
    "#     # Формируем названия колонок для преобразованных признаков\n",
    "#     indexed_categorical_features = [f\"{feature}_index\" for feature in categorical_features]\n",
    "#     onehot_categorical_features = [f\"{feature}_ohe\" for feature in categorical_features]\n",
    "    \n",
    "#     # Выполняем преобразования данных\n",
    "#     string_indexer = StringIndexer(inputCols=categorical_features,\n",
    "#                                    outputCols=indexed_categorical_features,\n",
    "#                                    handleInvalid=\"keep\")\n",
    "#     onehot_encoder = OneHotEncoder(inputCols=indexed_categorical_features,\n",
    "#                                    outputCols=onehot_categorical_features,\n",
    "#                                    dropLast=True,\n",
    "#                                    handleInvalid=\"keep\")\n",
    "#     vector_num_assembler = VectorAssembler(inputCols=numeric_features,\n",
    "#                                            outputCol=\"numeric_vector\")\n",
    "#     numeric_scaler = MinMaxScaler(inputCol=\"numeric_vector\",\n",
    "#                                    outputCol=\"numeric_vector_scaled\")\n",
    "#     binarizer = Binarizer(inputCol=binarized_col,\n",
    "#                           outputCol=\"mileage_binary\",\n",
    "#                           threshold=threshold)\n",
    "#     vector_all_assembler = VectorAssembler(\n",
    "#         inputCols=(onehot_categorical_features + binary_features +\n",
    "#                    [\"numeric_vector_scaled\", \"mileage_binary\"]),\n",
    "#         outputCol=\"features\"\n",
    "#     )\n",
    "\n",
    "#     # Создаем модель линейной регрессии\n",
    "#     linear_regression = LinearRegression(featuresCol=\"features\",\n",
    "#                                          labelCol=label_col,\n",
    "#                                          predictionCol=\"prediction\",\n",
    "#                                          standardization=False,\n",
    "#                                          maxIter=max_iter)\n",
    "\n",
    "#     # Создаем конвейер\n",
    "#     pipeline = Pipeline(stages=[\n",
    "#         string_indexer, onehot_encoder, vector_num_assembler,\n",
    "#         numeric_scaler, binarizer, vector_all_assembler,\n",
    "#         linear_regression\n",
    "#     ])\n",
    "\n",
    "#     return pipeline"
   ]
  },
  {
   "cell_type": "code",
   "execution_count": 20,
   "metadata": {},
   "outputs": [],
   "source": [
    "pipeline = create_pipeline(categorical_features=categorical_features,\n",
    "                           numeric_features=numeric_features,\n",
    "                           binary_features=binary_features,\n",
    "                           label_col=\"totalFare\",  #\"totalFare\"\n",
    "                           num_trees=15,            # Число деревьев\n",
    "                           max_depth=10)            # Максимальная глубина дерева\n"
   ]
  },
  {
   "cell_type": "markdown",
   "metadata": {},
   "source": [
    "#### Обучение модели\n",
    "\n",
    "Выполним **подбор гиперпараметров** модели линейной регрессии с помощью кросс-валидации на сетке.\n",
    "\n",
    "Создаем сетку параметров для кросс-валидации, получив объект `LinearRegression` из конвейера."
   ]
  },
  {
   "cell_type": "code",
   "execution_count": 21,
   "metadata": {},
   "outputs": [],
   "source": [
    "# param_grid = ParamGridBuilder() \\\n",
    "#     .addGrid(pipeline.getStages()[-1].regParam, [0.01, 0.1, 1.0]) \\\n",
    "#     .addGrid(pipeline.getStages()[-1].elasticNetParam, [0.0, 0.5, 1.0]) \\\n",
    "#     .build()"
   ]
  },
  {
   "cell_type": "code",
   "execution_count": 22,
   "metadata": {},
   "outputs": [],
   "source": [
    "param_grid = ParamGridBuilder() \\\n",
    "    .addGrid(pipeline.getStages()[-1].numTrees, [10, 20, 30]) \\\n",
    "    .addGrid(pipeline.getStages()[-1].maxDepth, [5, 10, 15]) \\\n",
    "    .build()"
   ]
  },
  {
   "cell_type": "code",
   "execution_count": 23,
   "metadata": {},
   "outputs": [],
   "source": [
    "# param_grid = ParamGridBuilder() \\\n",
    "#     .addGrid(pipeline.getStages()[-1].numTrees, [10, 20, 30]) \\\n",
    "#     .addGrid(pipeline.getStages()[-1].maxDepth, [5, 10, 15]) \\\n",
    "#     .addGrid(pipeline.getStages()[-1].maxBins, [32, 64, 128]) \\\n",
    "#     .addGrid(pipeline.getStages()[-1].minInstancesPerNode, [1, 5, 10]) \\\n",
    "#     .build()"
   ]
  },
  {
   "cell_type": "markdown",
   "metadata": {},
   "source": [
    "Создаем экземпляр `RegressionEvaluator` для оценки модели."
   ]
  },
  {
   "cell_type": "code",
   "execution_count": 24,
   "metadata": {},
   "outputs": [],
   "source": [
    "cv_evaluator = RegressionEvaluator(labelCol=\"totalFare\", \n",
    "                                   predictionCol=\"prediction\",\n",
    "                                   metricName=\"rmse\") "
   ]
  },
  {
   "cell_type": "markdown",
   "metadata": {},
   "source": [
    "Создаем объект `CrossValidator`."
   ]
  },
  {
   "cell_type": "code",
   "execution_count": 25,
   "metadata": {},
   "outputs": [],
   "source": [
    "cross_validator = CrossValidator(estimator=pipeline,\n",
    "                                 estimatorParamMaps=param_grid,\n",
    "                                 evaluator=cv_evaluator,\n",
    "                                 numFolds=5) "
   ]
  },
  {
   "cell_type": "markdown",
   "metadata": {},
   "source": [
    "Обучаем модель конвейера с использованием кросс-валидации."
   ]
  },
  {
   "cell_type": "code",
   "execution_count": 26,
   "metadata": {},
   "outputs": [
    {
     "name": "stderr",
     "output_type": "stream",
     "text": [
      "24/12/16 17:41:35 WARN DAGScheduler: Broadcasting large task binary with size 1761.3 KiB\n",
      "24/12/16 17:48:16 WARN DAGScheduler: Broadcasting large task binary with size 1761.3 KiB\n",
      "24/12/16 17:49:14 WARN DAGScheduler: Broadcasting large task binary with size 3.1 MiB\n",
      "24/12/16 17:50:19 WARN DAGScheduler: Broadcasting large task binary with size 5.4 MiB\n",
      "24/12/16 17:51:43 WARN DAGScheduler: Broadcasting large task binary with size 1367.4 KiB\n",
      "24/12/16 17:51:49 WARN DAGScheduler: Broadcasting large task binary with size 9.2 MiB\n",
      "24/12/16 17:53:24 WARN DAGScheduler: Broadcasting large task binary with size 2.2 MiB\n",
      "24/12/16 17:53:33 WARN DAGScheduler: Broadcasting large task binary with size 15.2 MiB\n",
      "24/12/16 17:55:14 WARN DAGScheduler: Broadcasting large task binary with size 3.5 MiB\n",
      "24/12/16 17:55:29 WARN DAGScheduler: Broadcasting large task binary with size 24.4 MiB\n",
      "24/12/16 17:57:28 WARN DAGScheduler: Broadcasting large task binary with size 5.3 MiB\n",
      "24/12/16 18:09:17 WARN DAGScheduler: Broadcasting large task binary with size 1032.9 KiB\n",
      "24/12/16 18:10:49 WARN DAGScheduler: Broadcasting large task binary with size 1856.6 KiB\n",
      "24/12/16 18:12:41 WARN DAGScheduler: Broadcasting large task binary with size 3.3 MiB\n",
      "24/12/16 18:21:28 WARN DAGScheduler: Broadcasting large task binary with size 1032.9 KiB\n",
      "24/12/16 18:22:49 WARN DAGScheduler: Broadcasting large task binary with size 1856.6 KiB\n",
      "24/12/16 18:24:41 WARN DAGScheduler: Broadcasting large task binary with size 3.3 MiB\n",
      "24/12/16 18:26:52 WARN DAGScheduler: Broadcasting large task binary with size 5.9 MiB\n",
      "24/12/16 18:29:09 WARN DAGScheduler: Broadcasting large task binary with size 1558.7 KiB\n",
      "24/12/16 18:29:15 WARN DAGScheduler: Broadcasting large task binary with size 10.5 MiB\n",
      "24/12/16 18:31:46 WARN DAGScheduler: Broadcasting large task binary with size 2.7 MiB\n",
      "24/12/16 18:31:57 WARN DAGScheduler: Broadcasting large task binary with size 18.1 MiB\n",
      "24/12/16 18:34:43 WARN DAGScheduler: Broadcasting large task binary with size 4.4 MiB\n",
      "24/12/16 18:35:02 WARN DAGScheduler: Broadcasting large task binary with size 30.2 MiB\n",
      "24/12/16 18:38:05 WARN DAGScheduler: Broadcasting large task binary with size 7.0 MiB\n",
      "24/12/16 18:38:34 WARN DAGScheduler: Broadcasting large task binary with size 48.3 MiB\n",
      "24/12/16 18:42:03 WARN DAGScheduler: Broadcasting large task binary with size 10.6 MiB\n",
      "24/12/16 18:58:30 WARN DAGScheduler: Broadcasting large task binary with size 1450.1 KiB\n",
      "24/12/16 19:00:43 WARN DAGScheduler: Broadcasting large task binary with size 2.6 MiB\n",
      "24/12/16 19:03:22 WARN DAGScheduler: Broadcasting large task binary with size 4.7 MiB\n",
      "24/12/16 19:06:22 WARN DAGScheduler: Broadcasting large task binary with size 1260.1 KiB\n",
      "24/12/16 19:16:09 WARN DAGScheduler: Broadcasting large task binary with size 1450.0 KiB\n",
      "24/12/16 19:18:35 WARN DAGScheduler: Broadcasting large task binary with size 2.6 MiB\n",
      "24/12/16 19:21:20 WARN DAGScheduler: Broadcasting large task binary with size 4.7 MiB\n",
      "24/12/16 19:24:17 WARN DAGScheduler: Broadcasting large task binary with size 1260.1 KiB\n",
      "24/12/16 19:24:23 WARN DAGScheduler: Broadcasting large task binary with size 8.6 MiB\n",
      "24/12/16 19:27:45 WARN DAGScheduler: Broadcasting large task binary with size 2.2 MiB\n",
      "24/12/16 19:27:54 WARN DAGScheduler: Broadcasting large task binary with size 15.2 MiB\n",
      "24/12/16 19:31:40 WARN DAGScheduler: Broadcasting large task binary with size 3.9 MiB\n",
      "24/12/16 19:31:56 WARN DAGScheduler: Broadcasting large task binary with size 26.3 MiB\n",
      "24/12/16 19:36:06 WARN DAGScheduler: Broadcasting large task binary with size 6.5 MiB\n",
      "24/12/16 19:36:33 WARN DAGScheduler: Broadcasting large task binary with size 43.8 MiB\n",
      "24/12/16 19:41:22 WARN DAGScheduler: Broadcasting large task binary with size 10.4 MiB\n",
      "24/12/16 19:42:04 WARN DAGScheduler: Broadcasting large task binary with size 70.5 MiB\n",
      "24/12/16 19:47:55 WARN DAGScheduler: Broadcasting large task binary with size 15.7 MiB\n",
      "24/12/16 19:59:11 WARN DAGScheduler: Broadcasting large task binary with size 1000.8 KiB\n",
      "24/12/16 19:59:54 WARN DAGScheduler: Broadcasting large task binary with size 1756.3 KiB\n",
      "24/12/16 20:05:59 WARN DAGScheduler: Broadcasting large task binary with size 1000.8 KiB\n",
      "24/12/16 20:06:43 WARN DAGScheduler: Broadcasting large task binary with size 1756.4 KiB\n",
      "24/12/16 20:07:36 WARN DAGScheduler: Broadcasting large task binary with size 3.0 MiB\n",
      "24/12/16 20:08:37 WARN DAGScheduler: Broadcasting large task binary with size 5.3 MiB\n",
      "24/12/16 20:09:42 WARN DAGScheduler: Broadcasting large task binary with size 1359.8 KiB\n",
      "24/12/16 20:09:47 WARN DAGScheduler: Broadcasting large task binary with size 9.2 MiB\n",
      "24/12/16 20:11:01 WARN DAGScheduler: Broadcasting large task binary with size 2.2 MiB\n",
      "24/12/16 20:11:10 WARN DAGScheduler: Broadcasting large task binary with size 15.2 MiB\n",
      "24/12/16 20:12:30 WARN DAGScheduler: Broadcasting large task binary with size 3.5 MiB\n",
      "24/12/16 20:12:44 WARN DAGScheduler: Broadcasting large task binary with size 24.4 MiB\n",
      "24/12/16 20:14:15 WARN DAGScheduler: Broadcasting large task binary with size 5.4 MiB\n",
      "24/12/16 20:25:41 WARN DAGScheduler: Broadcasting large task binary with size 1030.7 KiB\n",
      "24/12/16 20:26:57 WARN DAGScheduler: Broadcasting large task binary with size 1856.6 KiB\n",
      "24/12/16 20:28:26 WARN DAGScheduler: Broadcasting large task binary with size 3.3 MiB\n",
      "24/12/16 20:36:40 WARN DAGScheduler: Broadcasting large task binary with size 1030.7 KiB\n",
      "24/12/16 20:37:54 WARN DAGScheduler: Broadcasting large task binary with size 1856.5 KiB\n",
      "24/12/16 20:39:23 WARN DAGScheduler: Broadcasting large task binary with size 3.3 MiB\n",
      "24/12/16 20:41:08 WARN DAGScheduler: Broadcasting large task binary with size 6.0 MiB\n",
      "24/12/16 20:43:02 WARN DAGScheduler: Broadcasting large task binary with size 1566.4 KiB\n",
      "24/12/16 20:43:08 WARN DAGScheduler: Broadcasting large task binary with size 10.6 MiB\n",
      "24/12/16 20:45:17 WARN DAGScheduler: Broadcasting large task binary with size 2.7 MiB\n",
      "24/12/16 20:45:28 WARN DAGScheduler: Broadcasting large task binary with size 18.3 MiB\n",
      "24/12/16 20:47:53 WARN DAGScheduler: Broadcasting large task binary with size 4.5 MiB\n",
      "24/12/16 20:48:11 WARN DAGScheduler: Broadcasting large task binary with size 30.5 MiB\n",
      "24/12/16 20:51:03 WARN DAGScheduler: Broadcasting large task binary with size 7.2 MiB\n",
      "24/12/16 20:51:31 WARN DAGScheduler: Broadcasting large task binary with size 49.1 MiB\n",
      "24/12/16 20:54:50 WARN DAGScheduler: Broadcasting large task binary with size 10.9 MiB\n",
      "24/12/16 21:10:48 WARN DAGScheduler: Broadcasting large task binary with size 1449.3 KiB\n",
      "24/12/16 21:12:50 WARN DAGScheduler: Broadcasting large task binary with size 2.6 MiB\n",
      "24/12/16 21:15:15 WARN DAGScheduler: Broadcasting large task binary with size 4.7 MiB\n",
      "24/12/16 21:17:55 WARN DAGScheduler: Broadcasting large task binary with size 1264.2 KiB\n",
      "24/12/16 21:27:22 WARN DAGScheduler: Broadcasting large task binary with size 1449.3 KiB\n",
      "24/12/16 21:29:22 WARN DAGScheduler: Broadcasting large task binary with size 2.6 MiB\n",
      "24/12/16 21:31:45 WARN DAGScheduler: Broadcasting large task binary with size 4.7 MiB\n",
      "24/12/16 21:34:24 WARN DAGScheduler: Broadcasting large task binary with size 1264.2 KiB\n",
      "24/12/16 21:34:29 WARN DAGScheduler: Broadcasting large task binary with size 8.6 MiB\n",
      "24/12/16 21:37:30 WARN DAGScheduler: Broadcasting large task binary with size 2.2 MiB\n",
      "24/12/16 21:37:40 WARN DAGScheduler: Broadcasting large task binary with size 15.3 MiB\n",
      "24/12/16 21:41:03 WARN DAGScheduler: Broadcasting large task binary with size 3.9 MiB\n",
      "24/12/16 21:41:19 WARN DAGScheduler: Broadcasting large task binary with size 26.5 MiB\n",
      "24/12/16 21:45:13 WARN DAGScheduler: Broadcasting large task binary with size 6.5 MiB\n",
      "24/12/16 21:45:40 WARN DAGScheduler: Broadcasting large task binary with size 44.3 MiB\n",
      "24/12/16 21:50:04 WARN DAGScheduler: Broadcasting large task binary with size 10.5 MiB\n",
      "24/12/16 21:50:45 WARN DAGScheduler: Broadcasting large task binary with size 71.2 MiB\n",
      "24/12/16 21:55:54 WARN DAGScheduler: Broadcasting large task binary with size 15.8 MiB\n",
      "24/12/16 22:08:06 WARN DAGScheduler: Broadcasting large task binary with size 1757.7 KiB\n",
      "24/12/16 22:14:44 WARN DAGScheduler: Broadcasting large task binary with size 1757.6 KiB\n",
      "24/12/16 22:15:37 WARN DAGScheduler: Broadcasting large task binary with size 3.0 MiB\n",
      "24/12/16 22:16:39 WARN DAGScheduler: Broadcasting large task binary with size 5.3 MiB\n",
      "24/12/16 22:17:46 WARN DAGScheduler: Broadcasting large task binary with size 1352.1 KiB\n",
      "24/12/16 22:17:51 WARN DAGScheduler: Broadcasting large task binary with size 9.1 MiB\n",
      "24/12/16 22:19:05 WARN DAGScheduler: Broadcasting large task binary with size 2.2 MiB\n",
      "24/12/16 22:19:14 WARN DAGScheduler: Broadcasting large task binary with size 15.2 MiB\n",
      "24/12/16 22:20:38 WARN DAGScheduler: Broadcasting large task binary with size 3.6 MiB\n",
      "24/12/16 22:20:52 WARN DAGScheduler: Broadcasting large task binary with size 24.4 MiB\n",
      "24/12/16 22:22:35 WARN DAGScheduler: Broadcasting large task binary with size 5.4 MiB\n",
      "24/12/16 22:34:07 WARN DAGScheduler: Broadcasting large task binary with size 1035.2 KiB\n",
      "24/12/16 22:35:21 WARN DAGScheduler: Broadcasting large task binary with size 1853.1 KiB\n",
      "24/12/16 22:36:50 WARN DAGScheduler: Broadcasting large task binary with size 3.3 MiB\n",
      "24/12/16 22:45:19 WARN DAGScheduler: Broadcasting large task binary with size 1035.2 KiB\n",
      "24/12/16 22:46:35 WARN DAGScheduler: Broadcasting large task binary with size 1853.0 KiB\n",
      "24/12/16 22:48:08 WARN DAGScheduler: Broadcasting large task binary with size 3.3 MiB\n",
      "24/12/16 22:49:54 WARN DAGScheduler: Broadcasting large task binary with size 5.9 MiB\n",
      "24/12/16 22:51:53 WARN DAGScheduler: Broadcasting large task binary with size 1555.8 KiB\n",
      "24/12/16 22:51:59 WARN DAGScheduler: Broadcasting large task binary with size 10.5 MiB\n",
      "24/12/16 22:54:12 WARN DAGScheduler: Broadcasting large task binary with size 2.7 MiB\n",
      "24/12/16 22:54:22 WARN DAGScheduler: Broadcasting large task binary with size 18.1 MiB\n",
      "24/12/16 22:56:57 WARN DAGScheduler: Broadcasting large task binary with size 4.5 MiB\n",
      "24/12/16 22:57:15 WARN DAGScheduler: Broadcasting large task binary with size 30.3 MiB\n",
      "24/12/16 23:00:25 WARN DAGScheduler: Broadcasting large task binary with size 7.1 MiB\n",
      "24/12/16 23:00:53 WARN DAGScheduler: Broadcasting large task binary with size 48.5 MiB\n",
      "24/12/16 23:04:35 WARN DAGScheduler: Broadcasting large task binary with size 10.7 MiB\n",
      "24/12/16 23:20:58 WARN DAGScheduler: Broadcasting large task binary with size 1453.1 KiB\n",
      "24/12/16 23:23:02 WARN DAGScheduler: Broadcasting large task binary with size 2.6 MiB\n",
      "24/12/16 23:25:37 WARN DAGScheduler: Broadcasting large task binary with size 4.8 MiB\n",
      "24/12/16 23:28:20 WARN DAGScheduler: Broadcasting large task binary with size 1266.7 KiB\n",
      "24/12/16 23:37:43 WARN DAGScheduler: Broadcasting large task binary with size 1455.0 KiB\n",
      "24/12/16 23:39:47 WARN DAGScheduler: Broadcasting large task binary with size 2.6 MiB\n",
      "24/12/16 23:42:05 WARN DAGScheduler: Broadcasting large task binary with size 4.8 MiB\n",
      "24/12/16 23:44:46 WARN DAGScheduler: Broadcasting large task binary with size 1271.9 KiB\n",
      "24/12/16 23:44:51 WARN DAGScheduler: Broadcasting large task binary with size 8.7 MiB\n",
      "24/12/16 23:47:57 WARN DAGScheduler: Broadcasting large task binary with size 2.3 MiB\n",
      "24/12/16 23:48:06 WARN DAGScheduler: Broadcasting large task binary with size 15.4 MiB\n",
      "24/12/16 23:51:56 WARN DAGScheduler: Broadcasting large task binary with size 3.9 MiB\n",
      "24/12/16 23:52:12 WARN DAGScheduler: Broadcasting large task binary with size 26.6 MiB\n",
      "24/12/16 23:56:27 WARN DAGScheduler: Broadcasting large task binary with size 6.6 MiB\n",
      "24/12/16 23:56:54 WARN DAGScheduler: Broadcasting large task binary with size 44.5 MiB\n",
      "24/12/17 00:01:55 WARN DAGScheduler: Broadcasting large task binary with size 10.5 MiB\n",
      "24/12/17 00:02:36 WARN DAGScheduler: Broadcasting large task binary with size 71.6 MiB\n",
      "24/12/17 00:08:22 WARN DAGScheduler: Broadcasting large task binary with size 16.0 MiB\n",
      "24/12/17 00:20:28 WARN DAGScheduler: Broadcasting large task binary with size 1751.8 KiB\n",
      "24/12/17 00:27:21 WARN DAGScheduler: Broadcasting large task binary with size 1751.8 KiB\n",
      "24/12/17 00:28:13 WARN DAGScheduler: Broadcasting large task binary with size 3.0 MiB\n",
      "24/12/17 00:29:13 WARN DAGScheduler: Broadcasting large task binary with size 5.3 MiB\n",
      "24/12/17 00:30:21 WARN DAGScheduler: Broadcasting large task binary with size 1355.0 KiB\n",
      "24/12/17 00:30:26 WARN DAGScheduler: Broadcasting large task binary with size 9.1 MiB\n",
      "24/12/17 00:31:39 WARN DAGScheduler: Broadcasting large task binary with size 2.2 MiB\n",
      "24/12/17 00:31:48 WARN DAGScheduler: Broadcasting large task binary with size 15.1 MiB\n",
      "24/12/17 00:33:12 WARN DAGScheduler: Broadcasting large task binary with size 3.5 MiB\n",
      "24/12/17 00:33:26 WARN DAGScheduler: Broadcasting large task binary with size 24.2 MiB\n",
      "24/12/17 00:35:01 WARN DAGScheduler: Broadcasting large task binary with size 5.3 MiB\n",
      "24/12/17 00:46:38 WARN DAGScheduler: Broadcasting large task binary with size 1035.3 KiB\n",
      "24/12/17 00:47:54 WARN DAGScheduler: Broadcasting large task binary with size 1860.7 KiB\n",
      "24/12/17 00:49:29 WARN DAGScheduler: Broadcasting large task binary with size 3.3 MiB\n",
      "24/12/17 00:57:46 WARN DAGScheduler: Broadcasting large task binary with size 1035.3 KiB\n",
      "24/12/17 00:59:01 WARN DAGScheduler: Broadcasting large task binary with size 1858.6 KiB\n",
      "24/12/17 01:00:30 WARN DAGScheduler: Broadcasting large task binary with size 3.3 MiB\n",
      "24/12/17 01:02:18 WARN DAGScheduler: Broadcasting large task binary with size 6.0 MiB\n",
      "24/12/17 01:04:13 WARN DAGScheduler: Broadcasting large task binary with size 1565.8 KiB\n",
      "24/12/17 01:04:20 WARN DAGScheduler: Broadcasting large task binary with size 10.6 MiB\n",
      "24/12/17 01:06:31 WARN DAGScheduler: Broadcasting large task binary with size 2.7 MiB\n",
      "24/12/17 01:06:42 WARN DAGScheduler: Broadcasting large task binary with size 18.2 MiB\n",
      "24/12/17 01:09:34 WARN DAGScheduler: Broadcasting large task binary with size 4.5 MiB\n",
      "24/12/17 01:09:52 WARN DAGScheduler: Broadcasting large task binary with size 30.4 MiB\n",
      "24/12/17 01:13:15 WARN DAGScheduler: Broadcasting large task binary with size 7.1 MiB\n",
      "24/12/17 01:13:45 WARN DAGScheduler: Broadcasting large task binary with size 48.7 MiB\n",
      "24/12/17 01:17:23 WARN DAGScheduler: Broadcasting large task binary with size 10.7 MiB\n",
      "24/12/17 01:33:12 WARN DAGScheduler: Broadcasting large task binary with size 1450.0 KiB\n",
      "24/12/17 01:35:13 WARN DAGScheduler: Broadcasting large task binary with size 2.6 MiB\n",
      "24/12/17 01:37:42 WARN DAGScheduler: Broadcasting large task binary with size 4.8 MiB\n",
      "24/12/17 01:40:23 WARN DAGScheduler: Broadcasting large task binary with size 1270.3 KiB\n",
      "24/12/17 01:49:45 WARN DAGScheduler: Broadcasting large task binary with size 1450.0 KiB\n",
      "24/12/17 01:51:45 WARN DAGScheduler: Broadcasting large task binary with size 2.6 MiB\n",
      "24/12/17 01:54:08 WARN DAGScheduler: Broadcasting large task binary with size 4.8 MiB\n",
      "24/12/17 01:56:50 WARN DAGScheduler: Broadcasting large task binary with size 1270.3 KiB\n",
      "24/12/17 01:56:55 WARN DAGScheduler: Broadcasting large task binary with size 8.7 MiB\n",
      "24/12/17 01:59:58 WARN DAGScheduler: Broadcasting large task binary with size 2.2 MiB\n",
      "24/12/17 02:00:08 WARN DAGScheduler: Broadcasting large task binary with size 15.4 MiB\n",
      "24/12/17 02:03:53 WARN DAGScheduler: Broadcasting large task binary with size 3.9 MiB\n",
      "24/12/17 02:04:08 WARN DAGScheduler: Broadcasting large task binary with size 26.5 MiB\n",
      "24/12/17 02:08:25 WARN DAGScheduler: Broadcasting large task binary with size 6.6 MiB\n",
      "24/12/17 02:08:52 WARN DAGScheduler: Broadcasting large task binary with size 44.3 MiB\n",
      "24/12/17 02:13:46 WARN DAGScheduler: Broadcasting large task binary with size 10.5 MiB\n",
      "24/12/17 02:14:27 WARN DAGScheduler: Broadcasting large task binary with size 71.1 MiB\n",
      "24/12/17 02:20:26 WARN DAGScheduler: Broadcasting large task binary with size 15.8 MiB\n",
      "24/12/17 02:32:29 WARN DAGScheduler: Broadcasting large task binary with size 1753.4 KiB\n",
      "24/12/17 02:39:17 WARN DAGScheduler: Broadcasting large task binary with size 1753.2 KiB\n",
      "24/12/17 02:40:08 WARN DAGScheduler: Broadcasting large task binary with size 3.0 MiB\n",
      "24/12/17 02:41:09 WARN DAGScheduler: Broadcasting large task binary with size 5.3 MiB\n",
      "24/12/17 02:42:15 WARN DAGScheduler: Broadcasting large task binary with size 1360.3 KiB\n",
      "24/12/17 02:42:20 WARN DAGScheduler: Broadcasting large task binary with size 9.2 MiB\n",
      "24/12/17 02:43:34 WARN DAGScheduler: Broadcasting large task binary with size 2.2 MiB\n",
      "24/12/17 02:43:43 WARN DAGScheduler: Broadcasting large task binary with size 15.3 MiB\n",
      "24/12/17 02:45:05 WARN DAGScheduler: Broadcasting large task binary with size 3.6 MiB\n",
      "24/12/17 02:45:20 WARN DAGScheduler: Broadcasting large task binary with size 24.6 MiB\n",
      "24/12/17 02:46:53 WARN DAGScheduler: Broadcasting large task binary with size 5.4 MiB\n",
      "24/12/17 02:58:16 WARN DAGScheduler: Broadcasting large task binary with size 1037.2 KiB\n",
      "24/12/17 02:59:34 WARN DAGScheduler: Broadcasting large task binary with size 1864.7 KiB\n",
      "24/12/17 03:01:03 WARN DAGScheduler: Broadcasting large task binary with size 3.3 MiB\n",
      "24/12/17 03:09:26 WARN DAGScheduler: Broadcasting large task binary with size 1037.1 KiB\n",
      "24/12/17 03:10:42 WARN DAGScheduler: Broadcasting large task binary with size 1864.4 KiB\n",
      "24/12/17 03:12:18 WARN DAGScheduler: Broadcasting large task binary with size 3.3 MiB\n",
      "24/12/17 03:14:13 WARN DAGScheduler: Broadcasting large task binary with size 6.0 MiB\n",
      "24/12/17 03:16:13 WARN DAGScheduler: Broadcasting large task binary with size 1567.9 KiB\n",
      "24/12/17 03:16:19 WARN DAGScheduler: Broadcasting large task binary with size 10.6 MiB\n",
      "24/12/17 03:18:41 WARN DAGScheduler: Broadcasting large task binary with size 2.7 MiB\n",
      "24/12/17 03:18:51 WARN DAGScheduler: Broadcasting large task binary with size 18.4 MiB\n",
      "24/12/17 03:21:29 WARN DAGScheduler: Broadcasting large task binary with size 4.5 MiB\n",
      "24/12/17 03:21:47 WARN DAGScheduler: Broadcasting large task binary with size 30.8 MiB\n",
      "24/12/17 03:24:49 WARN DAGScheduler: Broadcasting large task binary with size 7.3 MiB\n",
      "24/12/17 03:25:18 WARN DAGScheduler: Broadcasting large task binary with size 49.7 MiB\n",
      "24/12/17 03:28:44 WARN DAGScheduler: Broadcasting large task binary with size 11.1 MiB\n",
      "24/12/17 03:44:54 WARN DAGScheduler: Broadcasting large task binary with size 1449.7 KiB\n",
      "24/12/17 03:47:05 WARN DAGScheduler: Broadcasting large task binary with size 2.6 MiB\n",
      "24/12/17 03:49:47 WARN DAGScheduler: Broadcasting large task binary with size 4.8 MiB\n",
      "24/12/17 03:52:32 WARN DAGScheduler: Broadcasting large task binary with size 1269.9 KiB\n",
      "24/12/17 04:01:55 WARN DAGScheduler: Broadcasting large task binary with size 1449.7 KiB\n",
      "24/12/17 04:03:54 WARN DAGScheduler: Broadcasting large task binary with size 2.6 MiB\n",
      "24/12/17 04:06:12 WARN DAGScheduler: Broadcasting large task binary with size 4.8 MiB\n",
      "24/12/17 04:08:53 WARN DAGScheduler: Broadcasting large task binary with size 1269.9 KiB\n",
      "24/12/17 04:08:58 WARN DAGScheduler: Broadcasting large task binary with size 8.7 MiB\n",
      "24/12/17 04:11:58 WARN DAGScheduler: Broadcasting large task binary with size 2.2 MiB\n",
      "24/12/17 04:12:07 WARN DAGScheduler: Broadcasting large task binary with size 15.4 MiB\n",
      "24/12/17 04:15:42 WARN DAGScheduler: Broadcasting large task binary with size 3.9 MiB\n",
      "24/12/17 04:15:59 WARN DAGScheduler: Broadcasting large task binary with size 26.7 MiB\n",
      "24/12/17 04:20:07 WARN DAGScheduler: Broadcasting large task binary with size 6.6 MiB\n",
      "24/12/17 04:20:34 WARN DAGScheduler: Broadcasting large task binary with size 44.6 MiB\n",
      "24/12/17 04:25:25 WARN DAGScheduler: Broadcasting large task binary with size 10.6 MiB\n",
      "24/12/17 04:26:07 WARN DAGScheduler: Broadcasting large task binary with size 72.0 MiB\n",
      "24/12/17 04:32:04 WARN DAGScheduler: Broadcasting large task binary with size 16.1 MiB\n",
      "24/12/17 04:46:13 WARN DAGScheduler: Broadcasting large task binary with size 1434.4 KiB\n",
      "24/12/17 04:48:37 WARN DAGScheduler: Broadcasting large task binary with size 2.6 MiB\n",
      "24/12/17 04:51:26 WARN DAGScheduler: Broadcasting large task binary with size 4.7 MiB\n",
      "24/12/17 04:54:46 WARN DAGScheduler: Broadcasting large task binary with size 1265.3 KiB\n",
      "24/12/17 04:54:51 WARN DAGScheduler: Broadcasting large task binary with size 8.6 MiB\n",
      "24/12/17 04:58:26 WARN DAGScheduler: Broadcasting large task binary with size 2.2 MiB\n",
      "24/12/17 04:58:36 WARN DAGScheduler: Broadcasting large task binary with size 15.4 MiB\n",
      "24/12/17 05:02:55 WARN DAGScheduler: Broadcasting large task binary with size 3.9 MiB\n",
      "24/12/17 05:03:11 WARN DAGScheduler: Broadcasting large task binary with size 26.7 MiB\n",
      "24/12/17 05:08:15 WARN DAGScheduler: Broadcasting large task binary with size 6.6 MiB\n",
      "24/12/17 05:08:43 WARN DAGScheduler: Broadcasting large task binary with size 44.7 MiB\n",
      "24/12/17 05:14:33 WARN DAGScheduler: Broadcasting large task binary with size 10.6 MiB\n",
      "24/12/17 05:15:15 WARN DAGScheduler: Broadcasting large task binary with size 72.2 MiB\n",
      "24/12/17 05:21:53 WARN DAGScheduler: Broadcasting large task binary with size 16.2 MiB\n",
      "                                                                                \r"
     ]
    }
   ],
   "source": [
    "cv_model = cross_validator.fit(train_df)"
   ]
  },
  {
   "cell_type": "markdown",
   "metadata": {},
   "source": [
    "Выведем параметры **лучшей** модели, определенной в ходе кросс-валидации."
   ]
  },
  {
   "cell_type": "code",
   "execution_count": 46,
   "metadata": {},
   "outputs": [],
   "source": [
    "def get_best_model_params(cv_model: CrossValidatorModel) -> dict[str, float]:\n",
    "    \"\"\"\n",
    "    Получает параметры лучшей модели из объекта CrossValidatorModel.\n",
    "\n",
    "    Args:\n",
    "        cv_model (CrossValidatorModel): Объект CrossValidatorModel, \n",
    "            содержащий лучшую модель.\n",
    "\n",
    "    Returns:\n",
    "        Dict[str, float]: Параметры лучшей модели.\n",
    "    \"\"\"\n",
    "    # Извлечение лучшей модели из CrossValidator\n",
    "    best_model_pipeline = cv_model.bestModel  # Это PipelineModel\n",
    "    \n",
    "    # Извлечение последнего этапа из Pipeline\n",
    "    rf_model = best_model_pipeline.stages[-1]  # RandomForestRegressionModel\n",
    "    \n",
    "    # Проверка, что это действительно RandomForestRegressionModel\n",
    "    from pyspark.ml.regression import RandomForestRegressionModel\n",
    "    if not isinstance(rf_model, RandomForestRegressionModel):\n",
    "        raise ValueError(\"Последний этап Pipeline не является RandomForestRegressionModel\")\n",
    "    \n",
    "    # Извлечение параметров модели из ParamMap\n",
    "    param_map = rf_model.extractParamMap()\n",
    "    best_params = {\n",
    "        \"numTrees\": param_map[rf_model.getParam(\"numTrees\")],  # Количество деревьев\n",
    "        \"maxDepth\": param_map[rf_model.getParam(\"maxDepth\")],  # Максимальная глубина\n",
    "        \"maxBins\": param_map[rf_model.getParam(\"maxBins\")]     # Количество бинов\n",
    "    }\n",
    "    return best_params"
   ]
  },
  {
   "cell_type": "code",
   "execution_count": 47,
   "metadata": {},
   "outputs": [
    {
     "name": "stdout",
     "output_type": "stream",
     "text": [
      "numTrees: 30\n",
      "maxDepth: 15\n",
      "maxBins: 32\n"
     ]
    }
   ],
   "source": [
    "# Вывод параметры лучшей модели\n",
    "for key, value in get_best_model_params(cv_model=cv_model).items():\n",
    "    print(f\"{key}: {value}\")"
   ]
  },
  {
   "cell_type": "code",
   "execution_count": 58,
   "metadata": {},
   "outputs": [],
   "source": [
    "# def get_best_model_params(cv_model: CrossValidatorModel) -> dict[str, float]:\n",
    "#     \"\"\"\n",
    "#     Получает параметры лучшей модели из объекта CrossValidatorModel.\n",
    "\n",
    "#     Args:\n",
    "#         cv_model (CrossValidatorModel): Объект CrossValidatorModel, \n",
    "#             содержащий лучшую модель.\n",
    "\n",
    "#     Returns:\n",
    "#         Dict[str, float]: Параметры лучшей модели.\n",
    "#     \"\"\"\n",
    "#     best_model = cv_model.bestModel\n",
    "#     best_params = {\n",
    "#         \"regParam\": best_model.stages[-1].getRegParam(),\n",
    "#         \"elasticNetParam\": best_model.stages[-1].getElasticNetParam(),\n",
    "#         \"maxIter\": best_model.stages[-1].getMaxIter()\n",
    "#     }\n",
    "#     return best_params"
   ]
  },
  {
   "cell_type": "code",
   "execution_count": null,
   "metadata": {},
   "outputs": [],
   "source": [
    "# for key, value in get_best_model_params(cv_model=cv_model).items():\n",
    "#     print(f\"{key}: {value}\")"
   ]
  },
  {
   "cell_type": "markdown",
   "metadata": {},
   "source": [
    "#### Анализ процесса обучения\n",
    "\n",
    "Визуализируем изменение ошибки модели в ходе обучения и рассчитаем метрики на обучающем датасете."
   ]
  },
  {
   "cell_type": "code",
   "execution_count": 50,
   "metadata": {},
   "outputs": [],
   "source": [
    "import matplotlib.pyplot as plt\n",
    "import seaborn as sns\n",
    "import numpy as np\n",
    "\n",
    "def plot_feature_importance(cv_model: CrossValidatorModel) -> None:\n",
    "    \"\"\"\n",
    "    Отображает график важности признаков для лучшей модели.\n",
    "    \n",
    "    Args:\n",
    "        cv_model (CrossValidatorModel): Обученная модель с использованием кросс-валидации.\n",
    "    \"\"\"\n",
    "    # Получаем лучшую модель\n",
    "    best_model = cv_model.bestModel\n",
    "\n",
    "    # Извлекаем важность признаков\n",
    "    feature_importances = best_model.stages[-1].featureImportances\n",
    "\n",
    "    # Преобразуем важности признаков в список\n",
    "    feature_importances = feature_importances.toArray()  # Преобразуем DenseVector в массив\n",
    "\n",
    "    # Получаем имена признаков\n",
    "    feature_names = best_model.stages[-2].getInputCols()  # Список признаков\n",
    "\n",
    "    # Убедимся, что длины совпадают\n",
    "    assert len(feature_names) == len(feature_importances), \"Размеры имен и важностей признаков не совпадают!\"\n",
    "\n",
    "    # Создаем DataFrame для удобства отображения\n",
    "    importances_df = {\n",
    "        'Feature': feature_names,\n",
    "        'Importance': feature_importances\n",
    "    }\n",
    "\n",
    "    # Строим график\n",
    "    plt.figure(figsize=(10, 6))\n",
    "    sns.barplot(x=importances_df['Feature'], y=importances_df['Importance'])\n",
    "    plt.xlabel('Признаки')\n",
    "    plt.ylabel('Важность')\n",
    "    plt.title(\"Важность признаков для модели RandomForest\")\n",
    "    plt.xticks(rotation=90)\n",
    "    plt.show()\n"
   ]
  },
  {
   "cell_type": "code",
   "execution_count": 51,
   "metadata": {},
   "outputs": [
    {
     "data": {
      "image/png": "[encoded data removed]",
      "text/plain": [
       "<Figure size 1000x600 with 1 Axes>"
      ]
     },
     "metadata": {},
     "output_type": "display_data"
    }
   ],
   "source": [
    "plot_feature_importance(cv_model=cv_model)"
   ]
  },
  {
   "cell_type": "code",
   "execution_count": 52,
   "metadata": {},
   "outputs": [],
   "source": [
    "# def plot_training_summary(cv_model: DataFrame) -> None:\n",
    "#     \"\"\"\n",
    "#     Отображает графики зависимости значения ошибки от номера итерации на\n",
    "#     обучающей выборке, а также значения метрик RMSE и R^2.\n",
    "\n",
    "#     Args:\n",
    "#         cv_model (DataFrame): Обученная модель с использованием кросс-валидации.\n",
    "#     \"\"\"\n",
    "#     # Получаем лучшую модель\n",
    "#     best_model = cv_model.bestModel\n",
    "\n",
    "#     # Получаем информацию о процессе обучения\n",
    "#     training_summary = best_model.stages[-1].summary\n",
    "\n",
    "#     # Получаем значения ошибки для каждой итерации\n",
    "#     objective_history = training_summary.objectiveHistory\n",
    "\n",
    "#     # Строим график зависимости значения ошибки от номера итерации\n",
    "#     plt.figure(figsize=(10, 6))\n",
    "#     sns.lineplot(x=range(len(objective_history)), \n",
    "#                  y=objective_history, \n",
    "#                  marker='o')\n",
    "#     plt.xlabel('Итерация')\n",
    "#     plt.ylabel('Ошибка')\n",
    "#     plt.title(\"Зависимость значения функции ошибки от номера итерации\")\n",
    "\n",
    "#     # Получаем значения метрик\n",
    "#     rmse = training_summary.rootMeanSquaredError\n",
    "#     r2 = training_summary.r2\n",
    "\n",
    "#     # Добавляем значения метрик на график\n",
    "#     plt.text(0.95, 0.95, f\"RMSE: {rmse:.2f}\\nR^2: {r2:.2f}\",\n",
    "#              transform=plt.gca().transAxes, ha='right', va='top',\n",
    "#              bbox=dict(facecolor='white', alpha=0.8), zorder=5)\n",
    "#     plt.grid()\n",
    "\n",
    "#     plt.show()"
   ]
  },
  {
   "cell_type": "code",
   "execution_count": 53,
   "metadata": {},
   "outputs": [],
   "source": [
    "#plot_training_summary(cv_model)"
   ]
  },
  {
   "cell_type": "markdown",
   "metadata": {},
   "source": [
    "#### Проверка обобщающей способности модели\n",
    "\n",
    "Выполним предсказания на тестовой выборке. \n",
    "\n",
    "Перегруппируем колонки датафрейма, переставив столбец с ценой автомобиля в конец, чтобы его значения было удобно сравнивать с предсказанными."
   ]
  },
  {
   "cell_type": "code",
   "execution_count": 54,
   "metadata": {},
   "outputs": [
    {
     "name": "stderr",
     "output_type": "stream",
     "text": [
      "[Stage 1372:>                                                       (0 + 1) / 1]\r"
     ]
    },
    {
     "name": "stdout",
     "output_type": "stream",
     "text": [
      "+--------------------+----------+---------------+------------------+--------------+------------+---------+------------------+--------------+-------------------+--------------+------------+--------------------+--------------------------------+---------------------+------------------------+--------------------+------------------+------------------+\n",
      "|               legId|flightDate|startingAirport|destinationAirport|isBasicEconomy|isRefundable|isNonStop|          baseFare|seatsRemaining|totalTravelDistance|airportFlights|totalFlights|otherAirportsFlights|relativeFlightShareOtherAirports|startingAirport_index|destinationAirport_index|            features|        prediction|         totalFare|\n",
      "+--------------------+----------+---------------+------------------+--------------+------------+---------+------------------+--------------+-------------------+--------------+------------+--------------------+--------------------------------+---------------------+------------------------+--------------------+------------------+------------------+\n",
      "|0000bc7fdd6967743...|2022-08-12|            DFW|               CLT|         false|       false|    false|221.39999389648438|             2|              953.0|          7526|      118113|              110587|             0.06805501550815195|                  3.0|                     6.0|[3.0,6.0,2.0,953....|335.06249476343186| 261.6099853515625|\n",
      "|0000bc7fdd6967743...|2022-08-12|            DFW|               CLT|         false|       false|    false| 283.7200012207031|             9|              953.0|         10669|      166790|              156121|             0.06833801986920401|                  3.0|                     6.0|[3.0,6.0,9.0,953....| 355.7784007100139| 328.6000061035156|\n",
      "|000175f2039cf317f...|2022-07-01|            SFO|               MIA|         false|       false|    false|506.04998779296875|             7|             2621.0|          5577|       70468|               64891|             0.08594412168097271|                  0.0|                     8.0|[0.0,8.0,7.0,2621...|472.48280724800185| 567.5999755859375|\n",
      "|000175f2039cf317f...|2022-07-01|            SFO|               MIA|         false|       false|    false|  593.489990234375|             7|             2621.0|          3762|       47361|               43599|              0.0862863827151999|                  0.0|                     8.0|[0.0,8.0,7.0,2621...| 470.8836464813602| 661.5999755859375|\n",
      "|000175f2039cf317f...|2022-07-01|            SFO|               MIA|         false|       false|    false| 679.0700073242188|             4|             2621.0|         14031|      175987|              161956|             0.08663464150756996|                  0.0|                     8.0|[0.0,8.0,4.0,2621...| 470.6852956711484| 753.5999755859375|\n",
      "|0001eda57829ac500...|2022-08-12|            MIA|               JFK|         false|       false|     true| 124.6500015258789|             7|             1104.0|          6470|      116603|              110133|             0.05874715117176505|                  8.0|                    12.0|[8.0,12.0,7.0,110...| 196.0142018857347|148.60000610351562|\n",
      "|0001eda57829ac500...|2022-08-12|            MIA|               JFK|         false|       false|     true| 133.9499969482422|             5|             1104.0|         11844|      211747|              199903|             0.05924873563678384|                  8.0|                    12.0|[8.0,12.0,5.0,110...|212.74487286357422|158.60000610351562|\n",
      "|0001eda57829ac500...|2022-08-12|            MIA|               JFK|         false|       false|     true|146.97999572753906|             7|             1104.0|          7886|      141312|              133426|            0.059103922773672296|                  8.0|                    12.0|[8.0,12.0,7.0,110...|195.97284971565028|172.60000610351562|\n",
      "|00025342a0fe2201d...|2022-08-12|            IAD|               BOS|         false|       false|    false| 96.73999786376953|             5|              406.0|           907|       17265|               16358|             0.05544687614622815|                 12.0|                     4.0|[12.0,4.0,5.0,406...|334.72755904724147| 127.5999984741211|\n",
      "|00025342a0fe2201d...|2022-08-12|            IAD|               BOS|         false|       false|    false| 124.6500015258789|             6|              406.0|          8456|      163282|              154826|             0.05461614974229135|                 12.0|                     4.0|[12.0,4.0,6.0,406...| 337.3629263364713|157.60000610351562|\n",
      "|00025342a0fe2201d...|2022-08-12|            IAD|               BOS|         false|       false|    false| 174.8800048828125|             2|              406.0|          9399|      180415|              171016|            0.054959769846096275|                 12.0|                     4.0|[12.0,4.0,2.0,406...|330.61141069080355|211.60000610351562|\n",
      "|0002f23579ad79e56...|2022-07-16|            JFK|               SFO|         false|       false|    false| 310.7099914550781|             7|             3665.0|          1039|       17768|               16729|            0.062107717137904236|                 11.0|                     1.0|[11.0,1.0,7.0,366...| 422.6998157692659| 357.6099853515625|\n",
      "|0003f8a28b5a37580...|2022-10-06|            LGA|               LAX|         false|       false|    false|320.92999267578125|             5|             2659.0|          3665|       50644|               46979|             0.07801358053598416|                  2.0|                     0.0|[2.0,0.0,5.0,2659...| 417.6718546063708| 368.6000061035156|\n",
      "|0003f8a28b5a37580...|2022-10-06|            LGA|               LAX|          true|       false|    false|161.86000061035156|             9|             2659.0|         11063|      151456|              140393|             0.07880022508244713|                  2.0|                     0.0|[2.0,0.0,9.0,2659...|250.19278252456883|197.60000610351562|\n",
      "|000469ff0182f4b4d...|2022-10-06|            IAD|               LGA|         false|       false|    false|426.04998779296875|             4|             1313.0|          4755|      107082|              102327|             0.04646867395702014|                 12.0|                     3.0|[12.0,3.0,4.0,131...| 428.1849178879804|487.20001220703125|\n",
      "|0004c5366d29f786c...|2022-08-12|            ATL|               LAX|         false|       false|    false| 322.7900085449219|             3|             1954.0|           485|        8886|                8401|             0.05773122247351506|                  7.0|                     0.0|[7.0,0.0,3.0,1954...| 436.7467212131584| 370.6000061035156|\n",
      "|0005e11269e579b81...|2022-07-01|            DEN|               BOS|         false|       false|    false| 532.0900268554688|             7|             2976.0|          7379|      121697|              114318|             0.06454801518571003|                  6.0|                     4.0|[6.0,4.0,7.0,2976...|  375.411625812954| 601.2000122070312|\n",
      "|00069e97e8f69019d...|2022-07-16|            IAD|               LGA|         false|       false|    false|  370.239990234375|             9|             1089.0|          4299|       78868|               74569|            0.057651302820206786|                 12.0|                     3.0|[12.0,3.0,9.0,108...|454.50047526674103| 421.6099853515625|\n",
      "|00069e97e8f69019d...|2022-07-16|            IAD|               LGA|         false|       false|    false| 388.8399963378906|             4|             1089.0|           246|        4710|                4464|             0.05510752688172043|                 12.0|                     3.0|[12.0,3.0,4.0,108...|414.08170726616873| 441.6000061035156|\n",
      "|00069e97e8f69019d...|2022-07-16|            IAD|               LGA|         false|       false|    false|402.79998779296875|             9|             1089.0|          9074|      167967|              158893|            0.057107613299516025|                 12.0|                     3.0|[12.0,3.0,9.0,108...| 455.5867517226513| 456.6099853515625|\n",
      "+--------------------+----------+---------------+------------------+--------------+------------+---------+------------------+--------------+-------------------+--------------+------------+--------------------+--------------------------------+---------------------+------------------------+--------------------+------------------+------------------+\n",
      "only showing top 20 rows\n",
      "\n"
     ]
    },
    {
     "name": "stderr",
     "output_type": "stream",
     "text": [
      "                                                                                \r"
     ]
    }
   ],
   "source": [
    "# Получаем датасет предсказаний\n",
    "test_df_predictions = cv_model.transform(test_df)\n",
    "\n",
    "# Извлекаем список колонок, устанавливаем цену на последнее место\n",
    "right_columns_order = test_df_predictions.columns\n",
    "right_columns_order.remove(\"totalFare\")  \n",
    "right_columns_order.append(\"totalFare\")  \n",
    "\n",
    "# Изменяем последовательность колонок и выводим датафрейм\n",
    "test_df_predictions = test_df_predictions.select(*right_columns_order)\n",
    "test_df_predictions.show()"
   ]
  },
  {
   "cell_type": "code",
   "execution_count": 55,
   "metadata": {},
   "outputs": [],
   "source": [
    "# # Получаем датасет предсказаний\n",
    "# test_df_predictions = cv_model.transform(test_df)\n",
    "\n",
    "# # Извлекаем список колонок, устанавливаем цену на последнее место\n",
    "# right_columns_order = test_df_predictions.columns\n",
    "# right_columns_order.remove(\"price\")\n",
    "# right_columns_order.append(\"price\")\n",
    "\n",
    "# # Изменяем последовательность колонок и выводим датафрейм\n",
    "# test_df_predictions = test_df_predictions.select(*right_columns_order)\n",
    "# test_df_predictions.show()"
   ]
  },
  {
   "cell_type": "markdown",
   "metadata": {},
   "source": [
    "Создадим функцию оценки модели: расчета метрик для некоторого датасета, как правило, тестового."
   ]
  },
  {
   "cell_type": "code",
   "execution_count": 56,
   "metadata": {},
   "outputs": [],
   "source": [
    "def evaluate_model(data: DataFrame, metric_name: str) -> float:\n",
    "    \"\"\"\n",
    "    Оценивает модель с использованием указанной метрики.\n",
    "\n",
    "    Args:\n",
    "        data (DataFrame): DataFrame, содержащий предсказания и фактические метки.\n",
    "        metric_name (str): Название метрики для оценки (например, \"rmse\", \"r2\").\n",
    "    \n",
    "    Returns:\n",
    "        float: Значение указанной метрики.\n",
    "    \"\"\"\n",
    "    # Оценка регрессионной модели с использованием столбца 'totalFare' как целевой переменной\n",
    "    evaluator = RegressionEvaluator(labelCol=\"totalFare\", \n",
    "                                    predictionCol=\"prediction\", \n",
    "                                    metricName=metric_name)\n",
    "    metric_value = evaluator.evaluate(data)\n",
    "    \n",
    "    return metric_value\n"
   ]
  },
  {
   "cell_type": "markdown",
   "metadata": {},
   "source": [
    "Оценим модель на тестовой выборке."
   ]
  },
  {
   "cell_type": "code",
   "execution_count": 57,
   "metadata": {},
   "outputs": [
    {
     "name": "stderr",
     "output_type": "stream",
     "text": [
      "[Stage 1375:====================================================> (36 + 1) / 37]\r"
     ]
    },
    {
     "name": "stdout",
     "output_type": "stream",
     "text": [
      "RMSE on test data: 108.44\n",
      "R^2 on test data: 0.57\n"
     ]
    },
    {
     "name": "stderr",
     "output_type": "stream",
     "text": [
      "                                                                                \r"
     ]
    }
   ],
   "source": [
    "test_rmse = evaluate_model(test_df_predictions, \"rmse\")\n",
    "test_r2 = evaluate_model(test_df_predictions, \"r2\")\n",
    "\n",
    "print(f\"RMSE on test data: {test_rmse:.2f}\")\n",
    "print(f\"R^2 on test data: {test_r2:.2f}\")"
   ]
  },
  {
   "cell_type": "markdown",
   "metadata": {},
   "source": [
    "Метрики весьма неплохие для линейной модели!"
   ]
  },
  {
   "cell_type": "markdown",
   "metadata": {},
   "source": [
    "#### Сохранение модели\n",
    "\n",
    "Зададим директорию студента в `HDFS`, в которой будет сохранена обученная модель."
   ]
  },
  {
   "cell_type": "code",
   "execution_count": 58,
   "metadata": {},
   "outputs": [],
   "source": [
    "student_hdfs_folder = \"kachurin_directory\""
   ]
  },
  {
   "cell_type": "code",
   "execution_count": 59,
   "metadata": {},
   "outputs": [
    {
     "name": "stderr",
     "output_type": "stream",
     "text": [
      "24/12/17 06:51:10 WARN TaskSetManager: Stage 1387 contains a task of very large size (1801 KiB). The maximum recommended task size is 1000 KiB.\n",
      "[Stage 1389:>                                                       (0 + 1) / 1]\r"
     ]
    },
    {
     "name": "stdout",
     "output_type": "stream",
     "text": [
      "Модель успешно сохранена в \"hdfs:///user/user6/kachurin_directory/models/lr-model\"\n"
     ]
    },
    {
     "name": "stderr",
     "output_type": "stream",
     "text": [
      "                                                                                \r"
     ]
    }
   ],
   "source": [
    "# Получаем имя пользователя\n",
    "user_name = os.getenv(\"USER\")\n",
    "\n",
    "# Путь модели в HDFS\n",
    "model_hdfs_path = f\"hdfs:///user/{user_name}/{student_hdfs_folder}/models/lr-model\"\n",
    "\n",
    "# Сохраняем модель конвейера в HDFS\n",
    "try:\n",
    "    cv_model.bestModel.save(model_hdfs_path)\n",
    "    print(f\"Модель успешно сохранена в \\\"{model_hdfs_path}\\\"\")\n",
    "except Exception as e:\n",
    "    print(f\"Ошибка при сохранении модели: {e}\")"
   ]
  },
  {
   "cell_type": "markdown",
   "metadata": {},
   "source": [
    "Не забываем завершать `Spark`-сессию."
   ]
  },
  {
   "cell_type": "code",
   "execution_count": 60,
   "metadata": {},
   "outputs": [],
   "source": [
    "spark.stop()"
   ]
  }
 ],
 "metadata": {
  "kernelspec": {
   "display_name": "pyspark-env",
   "language": "python",
   "name": "python3"
  },
  "language_info": {
   "codemirror_mode": {
    "name": "ipython",
    "version": 3
   },
   "file_extension": ".py",
   "mimetype": "text/x-python",
   "name": "python",
   "nbconvert_exporter": "python",
   "pygments_lexer": "ipython3",
   "version": "3.11.9"
  }
 },
 "nbformat": 4,
 "nbformat_minor": 2
}
